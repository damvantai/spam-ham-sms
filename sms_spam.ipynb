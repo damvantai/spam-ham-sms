{
 "cells": [
  {
   "cell_type": "code",
   "execution_count": 1,
   "metadata": {
    "scrolled": false
   },
   "outputs": [],
   "source": [
    "# !/usr/bin/python3\n",
    "import numpy as np\n",
    "from sklearn.feature_extraction.text import CountVectorizer\n",
    "from sklearn.naive_bayes import MultinomialNB, GaussianNB\n",
    "from sklearn.svm import SVC\n",
    "from sklearn.linear_model import LogisticRegression\n",
    "from sklearn.ensemble import RandomForestClassifier, AdaBoostClassifier\n",
    "from sklearn.metrics import accuracy_score\n",
    "import matplotlib.pyplot as plt\n",
    "import seaborn as sns\n",
    "import tensorflow as tf\n",
    "import pandas as pd\n",
    "from sklearn.feature_extraction.text import TfidfVectorizer, TfidfTransformer"
   ]
  },
  {
   "cell_type": "code",
   "execution_count": 2,
   "metadata": {},
   "outputs": [],
   "source": [
    "label = []\n",
    "message = []\n",
    "with open('train.txt', 'r') as f:\n",
    "    for numLine,line in enumerate(f):\n",
    "        line = line.replace('\\n', '')\n",
    "        splitLine = line.split(' ')\n",
    "        label.append(splitLine[0])\n",
    "        splitLine.__delitem__(0)\n",
    "        temp = ' '.join(splitLine)\n",
    "        message.append(temp)\n",
    "\n",
    "f.close()\n",
    "# type(splitLine)"
   ]
  },
  {
   "cell_type": "code",
   "execution_count": 3,
   "metadata": {},
   "outputs": [
    {
     "data": {
      "text/plain": [
       "['Ghe goi dau loai 1 chinh hang giam gia con hang cong ty chinh hang giam gia con thoi gian khuyen mai het ngay luu y',\n",
       " 'Anh thay em tuoi tho du doi a phet day. Viet ve sau phong van ho hoi day. Se co cam giac than thien',\n",
       " 'Chuc mung 093 xxx nhan duoc bai hat Vip \"Luc moi yeu\" tu mot nguoi ban ten H tang. De nghe bai hat va loi nhan duoc ghi am soan: VIP gui 7799',\n",
       " 'Troi dep thi bao troi dep, u ko dien den muc i dau. Co 1 it nc mat roi. Hoho minh chua bi lanh cam :v',\n",
       " 'Ranh tao nho chut viec',\n",
       " 'Nhan dip ra mat tang Quy khach SBC se du doan trung ...',\n",
       " 'Ban duoc tang Tuyen tap 500 GAME ONLINE chon loc cuc hay',\n",
       " 'ko phai ninh dam. tu nhien nghi ra de nt ah',\n",
       " 'Duoc roi dang nao cung phai qua ben do nop don. Haizzzzz sao ma bao luu cung thay tiec qua.suy nghi may hnay roi',\n",
       " 'May dang o dau the',\n",
       " 'Xin cam on va chuc mung ban cung 5585 ban khac voi cap 33-88 cua VD hom qua Hom nay VD mua tiep 1 cap cam ket an ca 2, co the an DB',\n",
       " 'chac ko dau. ong anh dua di thi em moi di duoc. em chua vao duong hoa',\n",
       " 'chinh a cung goi la ba gia roi con noi gi nua. roi the thi ngoi ngoai duong thoi.',\n",
       " 'Cau goi dien cho thay chua. Hom nay len gap khong tren lab chi co thay thoi',\n",
       " 'co 3 nguoi giong em. con vai nguoi nua duoi 3 nhung a ko ve nha dau dang ngoi o ho tien',\n",
       " 'Chuc anh vui ve',\n",
       " 'Thanh ly hang he hang cong so quan ao hang thu gia cuc re quy khach vui long toi dia chi',\n",
       " 'Chuc mung nam moi!',\n",
       " 'chuan bi $ hoc lai tiep',\n",
       " 'ko sao ca di ngu som di.',\n",
       " 'Dang ky goi Tan Mao de tiet kiem 97% cuoc goi noi mang, soan Y1 gui den 999 de dang ki goi 30phut/ngay voi 2.500d, soan Y2 voi 5.000d goi 90phut/ngay',\n",
       " '(QC) Soan tin DK gui 9224 de dang ki FunRing hoac CHON MANHACCHO gui 9224 de tai nhac cho va gianh co hoi trung 3 xe Yamaha Cuxi, 8 Nokia E72 tu Mobifone. Top nhac Hot thang 4: Vi sao:5429467, Ton tho mot tinh yeu: 51210445, Tinh yeu hoa gio: 572119. Tu choi QC soan tin',\n",
       " 'Tri An KH MOBIFONE Dau Nam tang LOC VANG cho TB 090... Lay Ket Qua Xo So, CAU BACH THU, XIU CHU Cam Ket Trung 100%',\n",
       " 'QC Ban da nhan duoc LOI CHUC NAM MOI tu mot nguoi ban ( yeu cau giau ten ) Loi chuc kem theo qua tang goi DV',\n",
       " 'Cay Online. Tai MIEN PHI, tang ngay 50k Tai Khoan Game http://',\n",
       " 'Ban co so SERI 2281969 TRUNG VOI ngay thanh lap CTy XSMB Chung Toi da co 1Kep ve 2nhay gui tang ban: Nhan So: Soan LK gui 8709',\n",
       " 'Cam on cau nhieu nhe',\n",
       " 'QC.Mot nguoi da goi truc tiep den tong dai yeu cau gui tang ban BAI HAT & ghi am LOI NHAN thoai gui den Ban.De nhan BAI HAT & nghe LOI NHAN soan: DK gui 7775',\n",
       " 'Re nhat rong bay tu quy du loai, website chuyen sim so dep viettel cac loai uy tin bao hanh tron doi. LH hanh phuc duoc phuc vu quy anh chi.',\n",
       " 'Ban biet thu Phap co mat pho Tran Quoc Toan, so do chinh chu ten tu nhan, dien tich 241 m2, mat tien  m, hau rong m, gia ca thoa thuan. Lien he bac Khanh',\n",
       " 'Lang le rut lui ah? U van muon nghe 1 loi giai thich :(',\n",
       " 'Uh anh dang o tren phong dao tao day. Nhung ho chua lam viec lat anh hoi cho',\n",
       " 'Mo ban du an Golden Land - 275 Nguyen Trai - gia goc chu dau tu - LH: dia chi',\n",
       " 'Troi ret nam trong chan am vai. Dech muon di hoc. Nghi de.',\n",
       " 'Chuc ngu ngon nhe',\n",
       " 'Voi hoi ho cho em? Da ap dung luat duoi 3 voi vb2 chua?',\n",
       " 'Ret qua. Em doi di choi thanh cong chua?',\n",
       " 'Nay, cau di ngu ngay di',\n",
       " 'KM dac biet mung nam moi. Dem loxo, dem bong ep, chan ga goi, chan loxo...',\n",
       " 'Biet ma. U doc 1 doan 2 thang nc vs nhau: \"m ma thit dc em i thi tha ho, luc i cu\\' tha ra no van phai ba\\'m m\" mia no! Ke ca la ck thi u van bo chu ko phai ngy.',\n",
       " 'Ban can ho chung cu mini Xuan Dinh, vao o ngay, can ho hoan thien, noi that cao cap LH ',\n",
       " 'Top nhac Hot thang 4: Vi sao:5429467, Ton tho mot tinh yeu: 51210445, Tinh yeu hoa gio: 572119. Tu choi QC soan tin',\n",
       " 'Troi ret nam trong chan am vai. Dech muon di hoc. Nghi de.',\n",
       " 'Cty chuyen cung cap binh ngam ruou sam han quoc cuc dep gia cuc re tai TP HCM. lien he dia chi',\n",
       " 'nam xem tao quan. lat nua thu doi di choi xem co dc ko',\n",
       " 'Bep hong ngoai Panasonic moi 100%  chi 289K va tang kem 1 vi nuong. Bao hanh 12 thang. LH dia chi',\n",
       " 'QC VMS2 Ma du thuong cT \"Alo ngay tien day tay\" : Tu 000... den 000... Tu choi nhan Ma du thuong, soan TC1 gui 9241',\n",
       " 'VUI XUAN: Gai 1Con lam xxx cuc PHE Tai ve xem ngay. Mien Phi: http://',\n",
       " 'Cau luu them so cua Trung vao Cau dep trai deo kinh nhom truong ngai hen thay thi cu goi cho cau nay truoc',\n",
       " \"Duoi 5 nguoi thi ko mo lop. H con cach la hoc lai cung k truoc thoi. Cam thay qua suc thi bao luu anh thay cung kho nang ne lam.co len beo':-) \",\n",
       " 'Hom nay VD mua tiep 1 cap cam ket an ca 2, co the an DB',\n",
       " 'Hien nay co cap LO TO chac an trong ngay. De lay soan VNT gui 7393 gia 3000 dong',\n",
       " 'Con oi, u co nen gap lao i noi ro rang het moi chuyen ko?',\n",
       " 'Lau Nuong UPA-UPA (Phong cach KOREA) Tai 2 PHAM NGOC THACH (CAU TRUNG TU) HA NOI.Chi Con 127Nghin Nguoi Buffee An thoai mai Khuyen Mai Tu 01-09 12-2012',\n",
       " 'The a, bao gio the ha cau',\n",
       " '(ClipXXX)6 Clip 18+ em MyPhuong voi Sep(nghe PHE vai) http://',\n",
       " 'Neu lao i muon gthich lao i phai hen u chu nhi?',\n",
       " 'Anh oi, em moi ban nham tien qua may anh, anh gui lai giup em duoc khong a! Em sinh vien chang co nhieu tien, anh giup em thi tot qua.',\n",
       " 'Co ban gai dang yeu ten H xxx gui tang TB 0913 xxx mot nhac pham voi loi nhan  Hy vong nhan ra em qua bai hat nay',\n",
       " 'Chuyen cung cap thep V lo da nang gia si va le LH dia chi Viet Cuong Phat DC',\n",
       " 'Ban BT song lap tai DTM My Dinh dt 138 m2, MT 11m, da hoan thien dep 3.5 tang, co gara oto, noi that hien dai, truoc nha 12m, gan duong Doan Thi Diem. Gia 19 ty. Lien he:',\n",
       " 'Sua Laptop Lay tien, uy tin, hieu qua, gia re, chuyen nghiep LH: Mr Phong',\n",
       " 'Mang len co 1 it thoi a? Xach bao nhieu do nhu vay lai con mang them nua. Sao ko mang 1 bao tai cho bo~ cong .:-) ',\n",
       " 'Hay anh len cho vien kinh te hoi chi van anh giup em voi? Em so diem trac thi chi tren day moi biet.',\n",
       " \"Gi ma vo nghia? Con dang chet di trong cai van phong day ah? Ra ngoai ma nhin troi dep that day, do be'o i..\",\n",
       " 'Mo ban 100.000 ve \"Bay khap Viet Nam\" gia co 10.000 dong tai www.vietjetair. com tu 21h-23h59 ngay 10,11,12. Hotline 19001886',\n",
       " 'BAN LA NGUOI MAY MAN! HaLinh Tang ban 5 Lan Dau Gia MIEN PHI 1 Cay Vang 9999 (17trieu) ne CoHoi DacBiet chi co Trong Hom Nay Thoi! Soan: DG GIA gui 8752',\n",
       " 'Em nghi the thoi. Dung la ba gia. Anh lam roi mat cai the ra vao cty roi. H chang biet lam the nao ca.',\n",
       " 'So huu vong eo thon gon san chac la muc tieu khong chi rieng chi em phai dep. dai massage giam gia dac biet chi con',\n",
       " 'be ngoai thi the thoi. em phai lon hon a 2 tuoi la it. vay thoi, cmsn hut',\n",
       " 'Anh xem ds co ai duoi 3 ko?',\n",
       " 'Son chat luong cao, giao hang tan noi, gia ca canh tranh. LH dia chi',\n",
       " 'Real Madrid - Barcelona  Hay soan tin: BD RMA gui 8779 de CHIEN THANG  KET QUA CHO: BD RMA gui 8579. TAI XIU SANG NHAT: BD TX gui 8779',\n",
       " 'Chuc cau nam moi vui ve gap nhieu dieu may man va thanh cong trong su nghiep',\n",
       " 'Ban da dang ki tu choi nhan tin QC! Tin nhan quang cao se khong duoc gui toi so thue bao cua ban nua! Chuc ban 1 ngay vui ve,tot lanh!',\n",
       " 'Gia soc: nhan dip 30/4 1/5 giam gia cuc soc cho sim so dep tu 23/4 3/5 Co hoi co 1 khong 2 Lien he giao dich',\n",
       " 'Chung cu ban gia goc 16,2 trieu dong/m2, thanh toan 9 dot, nam ngay tren mat duong Pham Van Dong, Tu Liem, cach Cau Giay 15 phut di xe may. Quy khach vui long lien he de duoc tu van mien phi',\n",
       " 'Cuoc song ngay cang kho khan',\n",
       " ':)) anh dua thoi. Da mang 1 dong quan ao lai xach them nua cho nang ra. ',\n",
       " 'the ko con dua nao doc than giong anh ah.',\n",
       " 'Can ho doidien cho Pham Van Hai, Tan Binh chi 1,6 ty/can (da bao gom VAT) LH dia chi',\n",
       " 'Tu viettel tang 50% gia tri the nap cho thue bao tra truoc. So tien cong them su dung cho goi va nhan tin ngoai mang noi mang',\n",
       " 'Du an Dolphin Plaza, 28 Tran Binh, Cau giay , Ha noi. Thiet ke rat hien dai cua Singapore, hon 6000 m2 san vuon, cay xanh mat dat, hon 3000 m2 lam khu sinh thai tai cot 17,5m, be boi cho nguoi lon, be boi cho tre em, san tam nang ngay',\n",
       " 'WapPush: Sexy>>Emgai thoi ken nhin rat PHE(13phut ban dep) http://',\n",
       " 'TV 6723 Ban Muon Biet TU VI trong nam 2012 TIEN BAC-CONG DANH-TINH DUYEN & cach giai VAN nhu the nao. Soan: TV Namsinh gui 6723.',\n",
       " 'Mai di tap the duc thi goi to nhe',\n",
       " 'BAN LA NGUOI MAY MAN HaLinh Tang ban 5 Lan DauGia MIEN PHI 1 Cay Vang 9999 (17trieu) ne CoHoi Dac Biet chi co Trong Hom Nay Thoi Soan: DG GIA gui 8752',\n",
       " 'Quen mat chua rua da mang cho a. E vua di ve.',\n",
       " 'Ban Laptop cu, laptop core i5, laptop core i3, tem zin gia re LH: ',\n",
       " 'the ngay duong la luc nao. hoa ra a sinh sau em may thang lien',\n",
       " 'Cung cap gian gia gia ke shop thoi trang gia goc va nhan thiet ke, gia cong shop gia re lien he dia chi',\n",
       " 'The co bao luu cung anh ko. Trong tg bao luu van dang ky hoc lai thoai mai.chi ay bao the',\n",
       " 'Hom nay di hoc co vui khong ?',\n",
       " 'Thoi duoc roi. Ma anh di lam thi chang onl dau ma biet. Ve toi kp face thi lay gi giai tri?',\n",
       " ':( biet the nho em mang cho 2 it ve giat h lai phai di gat quan ao',\n",
       " 'Ban da dang ki tu choi nhan tin QC! Tin nhan quang cao se khong duoc gui toi so thue bao cua ban nua!Chuc ban 1 ngay vui ve,tot lanh!',\n",
       " 'U ch? qua d?y l?y t?m 6h k? 10',\n",
       " 'Cty Dinh Thai - Chuyen sx cac loai dien tro dot nong dung trong cong nghiep va dan dung. Lh DC',\n",
       " 'TV 6723 Ban Muon Biet TU VI trong nam 2012 TIEN BAC CONG DANH TINH DUYEN & cach giai VAN nhu the nao. Soan: TV Namsinh gui 6723.',\n",
       " 'C cung biet so co a']"
      ]
     },
     "execution_count": 3,
     "metadata": {},
     "output_type": "execute_result"
    }
   ],
   "source": [
    "message"
   ]
  },
  {
   "cell_type": "code",
   "execution_count": 4,
   "metadata": {
    "scrolled": true
   },
   "outputs": [
    {
     "data": {
      "text/plain": [
       "100"
      ]
     },
     "execution_count": 4,
     "metadata": {},
     "output_type": "execute_result"
    }
   ],
   "source": [
    "len(label)"
   ]
  },
  {
   "cell_type": "code",
   "execution_count": 5,
   "metadata": {
    "scrolled": true
   },
   "outputs": [],
   "source": [
    "## chuyen doi list den DataFrame\n",
    "message_Frame = pd.DataFrame({'label': label, 'message': message}) "
   ]
  },
  {
   "cell_type": "code",
   "execution_count": 12,
   "metadata": {},
   "outputs": [
    {
     "name": "stdout",
     "output_type": "stream",
     "text": [
      "   label                                            message  length\n",
      "0     -1  Ghe goi dau loai 1 chinh hang giam gia con han...     115\n",
      "1      1  Anh thay em tuoi tho du doi a phet day. Viet v...      99\n",
      "2     -1  Chuc mung 093 xxx nhan duoc bai hat Vip \"Luc m...     141\n",
      "3      1  Troi dep thi bao troi dep, u ko dien den muc i...     101\n",
      "4      1                             Ranh tao nho chut viec      22\n",
      "5     -1  Nhan dip ra mat tang Quy khach SBC se du doan ...      55\n",
      "6     -1  Ban duoc tang Tuyen tap 500 GAME ONLINE chon l...      56\n",
      "7      1        ko phai ninh dam. tu nhien nghi ra de nt ah      43\n",
      "8      1  Duoc roi dang nao cung phai qua ben do nop don...     112\n",
      "9      1                                 May dang o dau the      18\n",
      "10    -1  Xin cam on va chuc mung ban cung 5585 ban khac...     131\n",
      "11     1  chac ko dau. ong anh dua di thi em moi di duoc...      69\n",
      "12     1  chinh a cung goi la ba gia roi con noi gi nua....      81\n",
      "13     1  Cau goi dien cho thay chua. Hom nay len gap kh...      75\n",
      "14     1  co 3 nguoi giong em. con vai nguoi nua duoi 3 ...      87\n",
      "15     1                                    Chuc anh vui ve      15\n",
      "16    -1  Thanh ly hang he hang cong so quan ao hang thu...      88\n",
      "17     1                                 Chuc mung nam moi!      18\n",
      "18     1                            chuan bi $ hoc lai tiep      23\n",
      "19     1                           ko sao ca di ngu som di.      24\n",
      "20    -1  Dang ky goi Tan Mao de tiet kiem 97% cuoc goi ...     149\n",
      "21    -1  (QC) Soan tin DK gui 9224 de dang ki FunRing h...     270\n",
      "22    -1  Tri An KH MOBIFONE Dau Nam tang LOC VANG cho T...     114\n",
      "23    -1  QC Ban da nhan duoc LOI CHUC NAM MOI tu mot ng...     108\n",
      "24    -1  Cay Online. Tai MIEN PHI, tang ngay 50k Tai Kh...      62\n",
      "25    -1  Ban co so SERI 2281969 TRUNG VOI ngay thanh la...     126\n",
      "26     1                               Cam on cau nhieu nhe      20\n",
      "27    -1  QC.Mot nguoi da goi truc tiep den tong dai yeu...     157\n",
      "28    -1  Re nhat rong bay tu quy du loai, website chuye...     140\n",
      "29    -1  Ban biet thu Phap co mat pho Tran Quoc Toan, s...     153\n",
      "..   ...                                                ...     ...\n",
      "70     1                        Anh xem ds co ai duoi 3 ko?      27\n",
      "71    -1  Son chat luong cao, giao hang tan noi, gia ca ...      68\n",
      "72    -1  Real Madrid - Barcelona  Hay soan tin: BD RMA ...     134\n",
      "73     1  Chuc cau nam moi vui ve gap nhieu dieu may man...      76\n",
      "74    -1  Ban da dang ki tu choi nhan tin QC! Tin nhan q...     134\n",
      "75    -1  Gia soc: nhan dip 30/4 1/5 giam gia cuc soc ch...     108\n",
      "76    -1  Chung cu ban gia goc 16,2 trieu dong/m2, thanh...     190\n",
      "77     1                       Cuoc song ngay cang kho khan      28\n",
      "78     1  :)) anh dua thoi. Da mang 1 dong quan ao lai x...      72\n",
      "79     1          the ko con dua nao doc than giong anh ah.      41\n",
      "80    -1  Can ho doidien cho Pham Van Hai, Tan Binh chi ...      84\n",
      "81    -1  Tu viettel tang 50% gia tri the nap cho thue b...     125\n",
      "82    -1  Du an Dolphin Plaza, 28 Tran Binh, Cau giay , ...     234\n",
      "83    -1  WapPush: Sexy>>Emgai thoi ken nhin rat PHE(13p...      66\n",
      "84    -1  TV 6723 Ban Muon Biet TU VI trong nam 2012 TIE...     128\n",
      "85     1                  Mai di tap the duc thi goi to nhe      33\n",
      "86    -1  BAN LA NGUOI MAY MAN HaLinh Tang ban 5 Lan Dau...     150\n",
      "87     1      Quen mat chua rua da mang cho a. E vua di ve.      45\n",
      "88    -1  Ban Laptop cu, laptop core i5, laptop core i3,...      66\n",
      "89     1  the ngay duong la luc nao. hoa ra a sinh sau e...      62\n",
      "90    -1  Cung cap gian gia gia ke shop thoi trang gia g...     103\n",
      "91     1  The co bao luu cung anh ko. Trong tg bao luu v...      89\n",
      "92     1                      Hom nay di hoc co vui khong ?      29\n",
      "93     1  Thoi duoc roi. Ma anh di lam thi chang onl dau...      91\n",
      "94     1  :( biet the nho em mang cho 2 it ve giat h lai...      66\n",
      "95    -1  Ban da dang ki tu choi nhan tin QC! Tin nhan q...     133\n",
      "96     1                     U ch? qua d?y l?y t?m 6h k? 10      30\n",
      "97    -1  Cty Dinh Thai - Chuyen sx cac loai dien tro do...      94\n",
      "98    -1  TV 6723 Ban Muon Biet TU VI trong nam 2012 TIE...     128\n",
      "99     1                                C cung biet so co a      19\n",
      "\n",
      "[100 rows x 3 columns]\n"
     ]
    }
   ],
   "source": [
    "print(message_Frame)"
   ]
  },
  {
   "cell_type": "code",
   "execution_count": 13,
   "metadata": {},
   "outputs": [
    {
     "data": {
      "text/html": [
       "<div>\n",
       "<style scoped>\n",
       "    .dataframe tbody tr th:only-of-type {\n",
       "        vertical-align: middle;\n",
       "    }\n",
       "\n",
       "    .dataframe tbody tr th {\n",
       "        vertical-align: top;\n",
       "    }\n",
       "\n",
       "    .dataframe thead th {\n",
       "        text-align: right;\n",
       "    }\n",
       "</style>\n",
       "<table border=\"1\" class=\"dataframe\">\n",
       "  <thead>\n",
       "    <tr style=\"text-align: right;\">\n",
       "      <th></th>\n",
       "      <th>label</th>\n",
       "      <th>message</th>\n",
       "      <th>length</th>\n",
       "    </tr>\n",
       "  </thead>\n",
       "  <tbody>\n",
       "    <tr>\n",
       "      <th>0</th>\n",
       "      <td>-1</td>\n",
       "      <td>Ghe goi dau loai 1 chinh hang giam gia con han...</td>\n",
       "      <td>115</td>\n",
       "    </tr>\n",
       "    <tr>\n",
       "      <th>1</th>\n",
       "      <td>1</td>\n",
       "      <td>Anh thay em tuoi tho du doi a phet day. Viet v...</td>\n",
       "      <td>99</td>\n",
       "    </tr>\n",
       "    <tr>\n",
       "      <th>2</th>\n",
       "      <td>-1</td>\n",
       "      <td>Chuc mung 093 xxx nhan duoc bai hat Vip \"Luc m...</td>\n",
       "      <td>141</td>\n",
       "    </tr>\n",
       "    <tr>\n",
       "      <th>3</th>\n",
       "      <td>1</td>\n",
       "      <td>Troi dep thi bao troi dep, u ko dien den muc i...</td>\n",
       "      <td>101</td>\n",
       "    </tr>\n",
       "    <tr>\n",
       "      <th>4</th>\n",
       "      <td>1</td>\n",
       "      <td>Ranh tao nho chut viec</td>\n",
       "      <td>22</td>\n",
       "    </tr>\n",
       "  </tbody>\n",
       "</table>\n",
       "</div>"
      ],
      "text/plain": [
       "  label                                            message  length\n",
       "0    -1  Ghe goi dau loai 1 chinh hang giam gia con han...     115\n",
       "1     1  Anh thay em tuoi tho du doi a phet day. Viet v...      99\n",
       "2    -1  Chuc mung 093 xxx nhan duoc bai hat Vip \"Luc m...     141\n",
       "3     1  Troi dep thi bao troi dep, u ko dien den muc i...     101\n",
       "4     1                             Ranh tao nho chut viec      22"
      ]
     },
     "execution_count": 13,
     "metadata": {},
     "output_type": "execute_result"
    }
   ],
   "source": [
    "message_Frame['length'] = message_Frame['message'].apply(len)\n",
    "message_Frame.head()"
   ]
  },
  {
   "cell_type": "code",
   "execution_count": 14,
   "metadata": {},
   "outputs": [
    {
     "data": {
      "text/html": [
       "<div>\n",
       "<style scoped>\n",
       "    .dataframe tbody tr th:only-of-type {\n",
       "        vertical-align: middle;\n",
       "    }\n",
       "\n",
       "    .dataframe tbody tr th {\n",
       "        vertical-align: top;\n",
       "    }\n",
       "\n",
       "    .dataframe thead th {\n",
       "        text-align: right;\n",
       "    }\n",
       "</style>\n",
       "<table border=\"1\" class=\"dataframe\">\n",
       "  <thead>\n",
       "    <tr style=\"text-align: right;\">\n",
       "      <th></th>\n",
       "      <th>length</th>\n",
       "    </tr>\n",
       "  </thead>\n",
       "  <tbody>\n",
       "    <tr>\n",
       "      <th>count</th>\n",
       "      <td>100.000000</td>\n",
       "    </tr>\n",
       "    <tr>\n",
       "      <th>mean</th>\n",
       "      <td>88.280000</td>\n",
       "    </tr>\n",
       "    <tr>\n",
       "      <th>std</th>\n",
       "      <td>48.070041</td>\n",
       "    </tr>\n",
       "    <tr>\n",
       "      <th>min</th>\n",
       "      <td>15.000000</td>\n",
       "    </tr>\n",
       "    <tr>\n",
       "      <th>25%</th>\n",
       "      <td>55.000000</td>\n",
       "    </tr>\n",
       "    <tr>\n",
       "      <th>50%</th>\n",
       "      <td>82.500000</td>\n",
       "    </tr>\n",
       "    <tr>\n",
       "      <th>75%</th>\n",
       "      <td>115.000000</td>\n",
       "    </tr>\n",
       "    <tr>\n",
       "      <th>max</th>\n",
       "      <td>270.000000</td>\n",
       "    </tr>\n",
       "  </tbody>\n",
       "</table>\n",
       "</div>"
      ],
      "text/plain": [
       "           length\n",
       "count  100.000000\n",
       "mean    88.280000\n",
       "std     48.070041\n",
       "min     15.000000\n",
       "25%     55.000000\n",
       "50%     82.500000\n",
       "75%    115.000000\n",
       "max    270.000000"
      ]
     },
     "execution_count": 14,
     "metadata": {},
     "output_type": "execute_result"
    }
   ],
   "source": [
    "message_Frame.describe()"
   ]
  },
  {
   "cell_type": "code",
   "execution_count": 15,
   "metadata": {},
   "outputs": [
    {
     "data": {
      "text/plain": [
       "array([<matplotlib.axes._subplots.AxesSubplot object at 0x7ff6ae80b1d0>,\n",
       "       <matplotlib.axes._subplots.AxesSubplot object at 0x7ff6ae7ca438>], dtype=object)"
      ]
     },
     "execution_count": 15,
     "metadata": {},
     "output_type": "execute_result"
    },
    {
     "data": {
      "image/png": "[encoded data removed]",
      "text/plain": [
       "<matplotlib.figure.Figure at 0x7ff6ae7f9ac8>"
      ]
     },
     "metadata": {},
     "output_type": "display_data"
    }
   ],
   "source": [
    "%matplotlib inline\n",
    "\n",
    "# ve do thi histogram ve \n",
    "message_Frame.hist(by='label', column='length', bins=30, figsize=[15, 5])"
   ]
  },
  {
   "cell_type": "code",
   "execution_count": 17,
   "metadata": {},
   "outputs": [],
   "source": [
    "x = message_Frame.message\n",
    "y = message_Frame.label"
   ]
  },
  {
   "cell_type": "code",
   "execution_count": 18,
   "metadata": {},
   "outputs": [],
   "source": [
    "from sklearn.model_selection import train_test_split\n",
    "\n",
    "# chia tap ngu lieu ra lam 2 phan ti le \n",
    "x_train, x_test, y_train, y_test = train_test_split(x, y, test_size = 0.25, random_state=11)"
   ]
  },
  {
   "cell_type": "code",
   "execution_count": 19,
   "metadata": {},
   "outputs": [
    {
     "data": {
      "text/plain": [
       "(75,)"
      ]
     },
     "execution_count": 19,
     "metadata": {},
     "output_type": "execute_result"
    }
   ],
   "source": [
    "x_train.shape"
   ]
  },
  {
   "cell_type": "code",
   "execution_count": 20,
   "metadata": {},
   "outputs": [
    {
     "name": "stdout",
     "output_type": "stream",
     "text": [
      "96                       U ch? qua d?y l?y t?m 6h k? 10\n",
      "2     Chuc mung 093 xxx nhan duoc bai hat Vip \"Luc m...\n",
      "11    chac ko dau. ong anh dua di thi em moi di duoc...\n",
      "28    Re nhat rong bay tu quy du loai, website chuye...\n",
      "9                                    May dang o dau the\n",
      "68    So huu vong eo thon gon san chac la muc tieu k...\n",
      "52    Con oi, u co nen gap lao i noi ro rang het moi...\n",
      "66    BAN LA NGUOI MAY MAN! HaLinh Tang ban 5 Lan Da...\n",
      "97    Cty Dinh Thai - Chuyen sx cac loai dien tro do...\n",
      "42    Troi ret nam trong chan am vai. Dech muon di h...\n",
      "69    be ngoai thi the thoi. em phai lon hon a 2 tuo...\n",
      "18                              chuan bi $ hoc lai tiep\n",
      "85                    Mai di tap the duc thi goi to nhe\n",
      "26                                 Cam on cau nhieu nhe\n",
      "99                                  C cung biet so co a\n",
      "19                             ko sao ca di ngu som di.\n",
      "65    Mo ban 100.000 ve \"Bay khap Viet Nam\" gia co 1...\n",
      "86    BAN LA NGUOI MAY MAN HaLinh Tang ban 5 Lan Dau...\n",
      "47    VUI XUAN: Gai 1Con lam xxx cuc PHE Tai ve xem ...\n",
      "84    TV 6723 Ban Muon Biet TU VI trong nam 2012 TIE...\n",
      "77                         Cuoc song ngay cang kho khan\n",
      "72    Real Madrid - Barcelona  Hay soan tin: BD RMA ...\n",
      "8     Duoc roi dang nao cung phai qua ben do nop don...\n",
      "3     Troi dep thi bao troi dep, u ko dien den muc i...\n",
      "59    Chuyen cung cap thep V lo da nang gia si va le...\n",
      "95    Ban da dang ki tu choi nhan tin QC! Tin nhan q...\n",
      "35    Voi hoi ho cho em? Da ap dung luat duoi 3 voi ...\n",
      "50    Hom nay VD mua tiep 1 cap cam ket an ca 2, co ...\n",
      "73    Chuc cau nam moi vui ve gap nhieu dieu may man...\n",
      "53    Lau Nuong UPA-UPA (Phong cach KOREA) Tai 2 PHA...\n",
      "                            ...                        \n",
      "75    Gia soc: nhan dip 30/4 1/5 giam gia cuc soc ch...\n",
      "27    QC.Mot nguoi da goi truc tiep den tong dai yeu...\n",
      "23    QC Ban da nhan duoc LOI CHUC NAM MOI tu mot ng...\n",
      "64    Gi ma vo nghia? Con dang chet di trong cai van...\n",
      "43    Cty chuyen cung cap binh ngam ruou sam han quo...\n",
      "70                          Anh xem ds co ai duoi 3 ko?\n",
      "67    Em nghi the thoi. Dung la ba gia. Anh lam roi ...\n",
      "17                                   Chuc mung nam moi!\n",
      "88    Ban Laptop cu, laptop core i5, laptop core i3,...\n",
      "37                              Nay, cau di ngu ngay di\n",
      "74    Ban da dang ki tu choi nhan tin QC! Tin nhan q...\n",
      "1     Anh thay em tuoi tho du doi a phet day. Viet v...\n",
      "12    chinh a cung goi la ba gia roi con noi gi nua....\n",
      "34                                    Chuc ngu ngon nhe\n",
      "4                                Ranh tao nho chut viec\n",
      "45    Bep hong ngoai Panasonic moi 100%  chi 289K va...\n",
      "32    Mo ban du an Golden Land - 275 Nguyen Trai - g...\n",
      "48    Cau luu them so cua Trung vao Cau dep trai deo...\n",
      "24    Cay Online. Tai MIEN PHI, tang ngay 50k Tai Kh...\n",
      "82    Du an Dolphin Plaza, 28 Tran Binh, Cau giay , ...\n",
      "71    Son chat luong cao, giao hang tan noi, gia ca ...\n",
      "33    Troi ret nam trong chan am vai. Dech muon di h...\n",
      "76    Chung cu ban gia goc 16,2 trieu dong/m2, thanh...\n",
      "13    Cau goi dien cho thay chua. Hom nay len gap kh...\n",
      "55    (ClipXXX)6 Clip 18+ em MyPhuong voi Sep(nghe P...\n",
      "81    Tu viettel tang 50% gia tri the nap cho thue b...\n",
      "91    The co bao luu cung anh ko. Trong tg bao luu v...\n",
      "80    Can ho doidien cho Pham Van Hai, Tan Binh chi ...\n",
      "63    Hay anh len cho vien kinh te hoi chi van anh g...\n",
      "25    Ban co so SERI 2281969 TRUNG VOI ngay thanh la...\n",
      "Name: message, Length: 75, dtype: object\n"
     ]
    }
   ],
   "source": [
    "print(x_train)"
   ]
  },
  {
   "cell_type": "code",
   "execution_count": 21,
   "metadata": {},
   "outputs": [
    {
     "data": {
      "text/plain": [
       "(25,)"
      ]
     },
     "execution_count": 21,
     "metadata": {},
     "output_type": "execute_result"
    }
   ],
   "source": [
    "x_test.shape"
   ]
  },
  {
   "cell_type": "code",
   "execution_count": 22,
   "metadata": {
    "scrolled": true
   },
   "outputs": [
    {
     "data": {
      "text/plain": [
       "pandas.core.series.Series"
      ]
     },
     "execution_count": 22,
     "metadata": {},
     "output_type": "execute_result"
    }
   ],
   "source": [
    "type(x_train)"
   ]
  },
  {
   "cell_type": "code",
   "execution_count": null,
   "metadata": {},
   "outputs": [],
   "source": [
    "vect = CountVectorizer()\n",
    "# chuyen doi den vecto\n",
    "X_train = vect.fit_transform(x_train)\n",
    "# chuyen doi vecto\n",
    "X_test = vect.transform(x_test)"
   ]
  },
  {
   "cell_type": "code",
   "execution_count": null,
   "metadata": {},
   "outputs": [],
   "source": [
    "tfidf_x_train = TfidfTransformer().fit_transform(X_train)\n",
    "tfidf_x_test = TfidfTransformer().fit_transform(X_test)"
   ]
  },
  {
   "cell_type": "code",
   "execution_count": null,
   "metadata": {},
   "outputs": [],
   "source": [
    "print(tfidf_x_train)"
   ]
  },
  {
   "cell_type": "code",
   "execution_count": null,
   "metadata": {},
   "outputs": [],
   "source": [
    "# phan loai theo cac phuong phap\n",
    "svc = SVC(kernel = 'linear')\n",
    "mnb = MultinomialNB(alpha =0.2)\n",
    "gnb  = GaussianNB()\n",
    "lr = LogisticRegression(solver='liblinear', penalty='l1')\n",
    "rfc = RandomForestClassifier(n_estimators=100,random_state=11)\n",
    "abc = AdaBoostClassifier(n_estimators =100,random_state=11)"
   ]
  },
  {
   "cell_type": "code",
   "execution_count": null,
   "metadata": {},
   "outputs": [],
   "source": [
    "def training(clf,x_train,Y_train):\n",
    "    clf.fit(x_train,Y_train)\n",
    "    \n",
    "def predict(clf,X_test):\n",
    "    return clf.predict(X_test)"
   ]
  },
  {
   "cell_type": "code",
   "execution_count": null,
   "metadata": {},
   "outputs": [],
   "source": [
    "# dinh nghia ten phan loai\n",
    "classifier={'SVM': svc , 'MultinomialNB': mnb,'GaussianNB': gnb,'logistic': lr,'RandomForest': rfc,'Adaboost': abc}"
   ]
  },
  {
   "cell_type": "code",
   "execution_count": null,
   "metadata": {},
   "outputs": [],
   "source": [
    "# du doan va tinh do chinh xac\n",
    "score = []\n",
    "score_tfidf = []\n",
    "for n,c in classifier.items():\n",
    "    training(c,X_train.toarray(),y_train)\n",
    "    training(c, tfidf_x_train.toarray(), y_train)\n",
    "    \n",
    "    pred = predict(c,X_test.toarray())\n",
    "    pred_tfidf = predict(c, tfidf_x_test.toarray())\n",
    "    \n",
    "    score.append((n,[accuracy_score(y_test,pred,normalize=True)]))\n",
    "    score_tfidf.append((n,[accuracy_score(y_test,pred_tfidf,normalize=True)]))"
   ]
  },
  {
   "cell_type": "code",
   "execution_count": null,
   "metadata": {
    "scrolled": true
   },
   "outputs": [],
   "source": [
    "score_df=pd.DataFrame.from_items(score,orient='index',columns=['scores'])\n",
    "# them cot accuracy\n",
    "score_df['Accuracy (%)']=score_df['scores']*100\n",
    "print(\"Use count words:\\n\")\n",
    "print(score_df)\n",
    "score_df_tfidf = pd.DataFrame.from_items(score_tfidf, orient='index', columns=['score_tfidf'])\n",
    "score_df_tfidf['Accuracy ifidf (%)']=score_df_tfidf['score_tfidf']*100\n",
    "print(\"\\nUse tfidf:\\n\")\n",
    "print(score_df_tfidf)"
   ]
  },
  {
   "cell_type": "code",
   "execution_count": null,
   "metadata": {},
   "outputs": [],
   "source": [
    "spam = ['BAN may mắn khi trúng thưởng']"
   ]
  },
  {
   "cell_type": "code",
   "execution_count": null,
   "metadata": {},
   "outputs": [],
   "source": [
    "vec_spam = vect.transform(spam)"
   ]
  },
  {
   "cell_type": "code",
   "execution_count": null,
   "metadata": {},
   "outputs": [],
   "source": [
    "print(vec_spam)"
   ]
  },
  {
   "cell_type": "code",
   "execution_count": null,
   "metadata": {
    "scrolled": true
   },
   "outputs": [],
   "source": [
    "for n,c in classifier.items():\n",
    "    pred = predict(c, vec_spam.toarray())\n",
    "    print(pred)"
   ]
  },
  {
   "cell_type": "code",
   "execution_count": null,
   "metadata": {},
   "outputs": [],
   "source": [
    "from sklearn.pipeline import Pipeline\n",
    "from sklearn.metrics import classification_report"
   ]
  },
  {
   "cell_type": "code",
   "execution_count": null,
   "metadata": {},
   "outputs": [],
   "source": [
    "pipeline = Pipeline([('bow', CountVectorizer()),\n",
    "                    ('tfidf', TfidfTransformer()),\n",
    "                    ('classifier', MultinomialNB())])"
   ]
  },
  {
   "cell_type": "code",
   "execution_count": null,
   "metadata": {},
   "outputs": [],
   "source": [
    "pipeline.fit(x_train, y_train)"
   ]
  },
  {
   "cell_type": "code",
   "execution_count": null,
   "metadata": {},
   "outputs": [],
   "source": [
    "predictions = pipeline.predict(x_test)"
   ]
  },
  {
   "cell_type": "code",
   "execution_count": null,
   "metadata": {},
   "outputs": [],
   "source": [
    "print(classification_report(predictions, y_test))"
   ]
  },
  {
   "cell_type": "code",
   "execution_count": null,
   "metadata": {},
   "outputs": [],
   "source": []
  }
 ],
 "metadata": {
  "kernelspec": {
   "display_name": "Python 3",
   "language": "python",
   "name": "python3"
  },
  "language_info": {
   "codemirror_mode": {
    "name": "ipython",
    "version": 3
   },
   "file_extension": ".py",
   "mimetype": "text/x-python",
   "name": "python",
   "nbconvert_exporter": "python",
   "pygments_lexer": "ipython3",
   "version": "3.5.2"
  }
 },
 "nbformat": 4,
 "nbformat_minor": 2
}
