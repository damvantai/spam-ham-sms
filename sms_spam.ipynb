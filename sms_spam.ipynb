{
 "cells": [
  {
   "cell_type": "code",
   "execution_count": 30,
   "metadata": {
    "collapsed": false,
    "scrolled": false
   },
   "outputs": [],
   "source": [
    "import numpy as np\n",
    "from sklearn.feature_extraction.text import CountVectorizer\n",
    "from sklearn.naive_bayes import MultinomialNB, GaussianNB\n",
    "from sklearn.svm import SVC\n",
    "from sklearn.linear_model import LogisticRegression\n",
    "from sklearn.ensemble import RandomForestClassifier, AdaBoostClassifier\n",
    "from sklearn.metrics import accuracy_score\n",
    "import matplotlib.pyplot as plt\n",
    "import seaborn as sns\n",
    "import tensorflow as tf\n",
    "label = []\n",
    "numberLine = 0\n",
    "message = []\n",
    "with open('train.txt', 'r') as f:\n",
    "    for line in f:\n",
    "        set_message = line.split('\\r')"
   ]
  },
  {
   "cell_type": "code",
   "execution_count": 31,
   "metadata": {
    "collapsed": false
   },
   "outputs": [
    {
     "data": {
      "text/plain": [
       "['-1 Ghe goi dau loai 1 chinh hang giam gia con hang cong ty chinh hang giam gia con thoi gian khuyen mai het ngay luu y',\n",
       " '1 Anh thay em tuoi tho du doi a phet day. Viet ve sau phong van ho hoi day. Se co cam giac than thien',\n",
       " '-1 Chuc mung 093 xxx nhan duoc bai hat Vip \"Luc moi yeu\" tu mot nguoi ban ten H tang. De nghe bai hat va loi nhan duoc ghi am soan: VIP gui 7799',\n",
       " '1 Troi dep thi bao troi dep, u ko dien den muc i dau. Co 1 it nc mat roi. Hoho minh chua bi lanh cam :v',\n",
       " '1 Ranh tao nho chut viec',\n",
       " '-1 Nhan dip ra mat tang Quy khach SBC se du doan trung ...',\n",
       " '-1 Ban duoc tang Tuyen tap 500 GAME ONLINE chon loc cuc hay',\n",
       " '1 ko phai ninh dam. tu nhien nghi ra de nt ah',\n",
       " '1 Duoc roi dang nao cung phai qua ben do nop don. Haizzzzz sao ma bao luu cung thay tiec qua.suy nghi may hnay roi',\n",
       " '1 May dang o dau the',\n",
       " '-1 Xin cam on va chuc mung ban cung 5585 ban khac voi cap 33-88 cua VD hom qua Hom nay VD mua tiep 1 cap cam ket an ca 2, co the an DB',\n",
       " '1 chac ko dau. ong anh dua di thi em moi di duoc. em chua vao duong hoa',\n",
       " '1 chinh a cung goi la ba gia roi con noi gi nua. roi the thi ngoi ngoai duong thoi.',\n",
       " '1 Cau goi dien cho thay chua. Hom nay len gap khong tren lab chi co thay thoi',\n",
       " '1 co 3 nguoi giong em. con vai nguoi nua duoi 3 nhung a ko ve nha dau dang ngoi o ho tien',\n",
       " '1 Chuc anh vui ve',\n",
       " '-1 Thanh ly hang he hang cong so quan ao hang thu gia cuc re quy khach vui long toi dia chi',\n",
       " '1 Chuc mung nam moi!',\n",
       " '1 chuan bi $ hoc lai tiep',\n",
       " '1 ko sao ca di ngu som di.',\n",
       " '-1 Dang ky goi Tan Mao de tiet kiem 97% cuoc goi noi mang, soan Y1 gui den 999 de dang ki goi 30phut/ngay voi 2.500d, soan Y2 voi 5.000d goi 90phut/ngay',\n",
       " '-1 (QC) Soan tin DK gui 9224 de dang ki FunRing hoac CHON MANHACCHO gui 9224 de tai nhac cho va gianh co hoi trung 3 xe Yamaha Cuxi, 8 Nokia E72 tu Mobifone. Top nhac Hot thang 4: Vi sao:5429467, Ton tho mot tinh yeu: 51210445, Tinh yeu hoa gio: 572119. Tu choi QC soan tin',\n",
       " '-1 Tri An KH MOBIFONE Dau Nam tang LOC VANG cho TB 090... Lay Ket Qua Xo So, CAU BACH THU, XIU CHU Cam Ket Trung 100%',\n",
       " '-1 QC Ban da nhan duoc LOI CHUC NAM MOI tu mot nguoi ban ( yeu cau giau ten ) Loi chuc kem theo qua tang goi DV',\n",
       " '-1 Cay Online. Tai MIEN PHI, tang ngay 50k Tai Khoan Game http://',\n",
       " '-1 Ban co so SERI 2281969 TRUNG VOI ngay thanh lap CTy XSMB Chung Toi da co 1Kep ve 2nhay gui tang ban: Nhan So: Soan LK gui 8709',\n",
       " '1 Cam on cau nhieu nhe',\n",
       " '-1 QC.Mot nguoi da goi truc tiep den tong dai yeu cau gui tang ban BAI HAT & ghi am LOI NHAN thoai gui den Ban.De nhan BAI HAT & nghe LOI NHAN soan: DK gui 7775',\n",
       " '-1 Re nhat rong bay tu quy du loai, website chuyen sim so dep viettel cac loai uy tin bao hanh tron doi. LH hanh phuc duoc phuc vu quy anh chi.',\n",
       " '-1 Ban biet thu Phap co mat pho Tran Quoc Toan, so do chinh chu ten tu nhan, dien tich 241 m2, mat tien  m, hau rong m, gia ca thoa thuan. Lien he bac Khanh',\n",
       " '1 Lang le rut lui ah? U van muon nghe 1 loi giai thich :(',\n",
       " '1 Uh anh dang o tren phong dao tao day. Nhung ho chua lam viec lat anh hoi cho',\n",
       " '-1 Mo ban du an Golden Land - 275 Nguyen Trai - gia goc chu dau tu - LH: dia chi',\n",
       " '1 Troi ret nam trong chan am vai. Dech muon di hoc. Nghi de.',\n",
       " '1 Chuc ngu ngon nhe',\n",
       " '1 Voi hoi ho cho em? Da ap dung luat duoi 3 voi vb2 chua?',\n",
       " '1 Ret qua. Em doi di choi thanh cong chua?',\n",
       " '1 Nay, cau di ngu ngay di',\n",
       " '-1 KM dac biet mung nam moi. Dem loxo, dem bong ep, chan ga goi, chan loxo...',\n",
       " '1 Biet ma. U doc 1 doan 2 thang nc vs nhau: \"m ma thit dc em i thi tha ho, luc i cu\\' tha ra no van phai ba\\'m m\" mia no! Ke ca la ck thi u van bo chu ko phai ngy.',\n",
       " '-1 Ban can ho chung cu mini Xuan Dinh, vao o ngay, can ho hoan thien, noi that cao cap LH ',\n",
       " '-1 Top nhac Hot thang 4: Vi sao:5429467, Ton tho mot tinh yeu: 51210445, Tinh yeu hoa gio: 572119. Tu choi QC soan tin',\n",
       " '1 Troi ret nam trong chan am vai. Dech muon di hoc. Nghi de.',\n",
       " '-1 Cty chuyen cung cap binh ngam ruou sam han quoc cuc dep gia cuc re tai TP HCM. lien he dia chi',\n",
       " '1 nam xem tao quan. lat nua thu doi di choi xem co dc ko',\n",
       " '-1 Bep hong ngoai Panasonic moi 100%  chi 289K va tang kem 1 vi nuong. Bao hanh 12 thang. LH dia chi',\n",
       " '-1 QC VMS2 Ma du thuong cT \"Alo ngay tien day tay\" : Tu 000... den 000... Tu choi nhan Ma du thuong, soan TC1 gui 9241',\n",
       " '-1 VUI XUAN: Gai 1Con lam xxx cuc PHE Tai ve xem ngay. Mien Phi: http://',\n",
       " '1 Cau luu them so cua Trung vao Cau dep trai deo kinh nhom truong ngai hen thay thi cu goi cho cau nay truoc',\n",
       " \"1 Duoi 5 nguoi thi ko mo lop. H con cach la hoc lai cung k truoc thoi. Cam thay qua suc thi bao luu anh thay cung kho nang ne lam.co len beo':-) \",\n",
       " '-1 Hom nay VD mua tiep 1 cap cam ket an ca 2, co the an DB',\n",
       " '-1 Hien nay co cap LO TO chac an trong ngay. De lay soan VNT gui 7393 gia 3000 dong',\n",
       " '1 Con oi, u co nen gap lao i noi ro rang het moi chuyen ko?',\n",
       " '-1 Lau Nuong UPA-UPA (Phong cach KOREA) Tai 2 PHAM NGOC THACH (CAU TRUNG TU) HA NOI.Chi Con 127Nghin Nguoi Buffee An thoai mai Khuyen Mai Tu 01-09 12-2012',\n",
       " '1 The a, bao gio the ha cau',\n",
       " '-1 (ClipXXX)6 Clip 18+ em MyPhuong voi Sep(nghe PHE vai) http://',\n",
       " '1 Neu lao i muon gthich lao i phai hen u chu nhi?',\n",
       " '-1 Anh oi, em moi ban nham tien qua may anh, anh gui lai giup em duoc khong a! Em sinh vien chang co nhieu tien, anh giup em thi tot qua.',\n",
       " '-1 Co ban gai dang yeu ten H xxx gui tang TB 0913 xxx mot nhac pham voi loi nhan  Hy vong nhan ra em qua bai hat nay',\n",
       " '-1 Chuyen cung cap thep V lo da nang gia si va le LH dia chi Viet Cuong Phat DC',\n",
       " '-1 Ban BT song lap tai DTM My Dinh dt 138 m2, MT 11m, da hoan thien dep 3.5 tang, co gara oto, noi that hien dai, truoc nha 12m, gan duong Doan Thi Diem. Gia 19 ty. Lien he:',\n",
       " '-1 Sua Laptop Lay tien, uy tin, hieu qua, gia re, chuyen nghiep LH: Mr Phong',\n",
       " '1 Mang len co 1 it thoi a? Xach bao nhieu do nhu vay lai con mang them nua. Sao ko mang 1 bao tai cho bo~ cong .:-) ',\n",
       " '1 Hay anh len cho vien kinh te hoi chi van anh giup em voi? Em so diem trac thi chi tren day moi biet.',\n",
       " \"1 Gi ma vo nghia? Con dang chet di trong cai van phong day ah? Ra ngoai ma nhin troi dep that day, do be'o i..\",\n",
       " '-1 Mo ban 100.000 ve \"Bay khap Viet Nam\" gia co 10.000 dong tai www.vietjetair. com tu 21h-23h59 ngay 10,11,12. Hotline 19001886',\n",
       " '-1 BAN LA NGUOI MAY MAN! HaLinh Tang ban 5 Lan Dau Gia MIEN PHI 1 Cay Vang 9999 (17trieu) ne CoHoi DacBiet chi co Trong Hom Nay Thoi! Soan: DG GIA gui 8752',\n",
       " '1 Em nghi the thoi. Dung la ba gia. Anh lam roi mat cai the ra vao cty roi. H chang biet lam the nao ca.',\n",
       " '-1 So huu vong eo thon gon san chac la muc tieu khong chi rieng chi em phai dep. dai massage giam gia dac biet chi con',\n",
       " '1 be ngoai thi the thoi. em phai lon hon a 2 tuoi la it. vay thoi, cmsn hut',\n",
       " '1 Anh xem ds co ai duoi 3 ko?',\n",
       " '-1 Son chat luong cao, giao hang tan noi, gia ca canh tranh. LH dia chi',\n",
       " '-1 Real Madrid - Barcelona  Hay soan tin: BD RMA gui 8779 de CHIEN THANG  KET QUA CHO: BD RMA gui 8579. TAI XIU SANG NHAT: BD TX gui 8779',\n",
       " '1 Chuc cau nam moi vui ve gap nhieu dieu may man va thanh cong trong su nghiep',\n",
       " '-1 Ban da dang ki tu choi nhan tin QC! Tin nhan quang cao se khong duoc gui toi so thue bao cua ban nua! Chuc ban 1 ngay vui ve,tot lanh!',\n",
       " '-1 Gia soc: nhan dip 30/4 1/5 giam gia cuc soc cho sim so dep tu 23/4 3/5 Co hoi co 1 khong 2 Lien he giao dich',\n",
       " '-1 Chung cu ban gia goc 16,2 trieu dong/m2, thanh toan 9 dot, nam ngay tren mat duong Pham Van Dong, Tu Liem, cach Cau Giay 15 phut di xe may. Quy khach vui long lien he de duoc tu van mien phi',\n",
       " '1 Cuoc song ngay cang kho khan',\n",
       " '1 :)) anh dua thoi. Da mang 1 dong quan ao lai xach them nua cho nang ra. ',\n",
       " '1 the ko con dua nao doc than giong anh ah.',\n",
       " '-1 Can ho doidien cho Pham Van Hai, Tan Binh chi 1,6 ty/can (da bao gom VAT) LH dia chi',\n",
       " '-1 Tu viettel tang 50% gia tri the nap cho thue bao tra truoc. So tien cong them su dung cho goi va nhan tin ngoai mang noi mang',\n",
       " '-1 Du an Dolphin Plaza, 28 Tran Binh, Cau giay , Ha noi. Thiet ke rat hien dai cua Singapore, hon 6000 m2 san vuon, cay xanh mat dat, hon 3000 m2 lam khu sinh thai tai cot 17,5m, be boi cho nguoi lon, be boi cho tre em, san tam nang ngay',\n",
       " '-1 WapPush: Sexy>>Emgai thoi ken nhin rat PHE(13phut ban dep) http://',\n",
       " '-1 TV 6723 Ban Muon Biet TU VI trong nam 2012 TIEN BAC-CONG DANH-TINH DUYEN & cach giai VAN nhu the nao. Soan: TV Namsinh gui 6723.',\n",
       " '1 Mai di tap the duc thi goi to nhe',\n",
       " '-1 BAN LA NGUOI MAY MAN HaLinh Tang ban 5 Lan DauGia MIEN PHI 1 Cay Vang 9999 (17trieu) ne CoHoi Dac Biet chi co Trong Hom Nay Thoi Soan: DG GIA gui 8752',\n",
       " '1 Quen mat chua rua da mang cho a. E vua di ve.',\n",
       " '-1 Ban Laptop cu, laptop core i5, laptop core i3, tem zin gia re LH: ',\n",
       " '1 the ngay duong la luc nao. hoa ra a sinh sau em may thang lien',\n",
       " '-1 Cung cap gian gia gia ke shop thoi trang gia goc va nhan thiet ke, gia cong shop gia re lien he dia chi',\n",
       " '1 The co bao luu cung anh ko. Trong tg bao luu van dang ky hoc lai thoai mai.chi ay bao the',\n",
       " '1 Hom nay di hoc co vui khong ?',\n",
       " '1 Thoi duoc roi. Ma anh di lam thi chang onl dau ma biet. Ve toi kp face thi lay gi giai tri?',\n",
       " '1 :( biet the nho em mang cho 2 it ve giat h lai phai di gat quan ao',\n",
       " '-1 Ban da dang ki tu choi nhan tin QC! Tin nhan quang cao se khong duoc gui toi so thue bao cua ban nua!Chuc ban 1 ngay vui ve,tot lanh!',\n",
       " '1 U ch? qua d?y l?y t?m 6h k? 10',\n",
       " '-1 Cty Dinh Thai - Chuyen sx cac loai dien tro dot nong dung trong cong nghiep va dan dung. Lh DC',\n",
       " '-1 TV 6723 Ban Muon Biet TU VI trong nam 2012 TIEN BAC CONG DANH TINH DUYEN & cach giai VAN nhu the nao. Soan: TV Namsinh gui 6723.',\n",
       " '1 C cung biet so co a']"
      ]
     },
     "execution_count": 31,
     "metadata": {},
     "output_type": "execute_result"
    }
   ],
   "source": [
    "set_message"
   ]
  },
  {
   "cell_type": "code",
   "execution_count": 32,
   "metadata": {
    "collapsed": false
   },
   "outputs": [
    {
     "name": "stdout",
     "output_type": "stream",
     "text": [
      "[0, 1, 2, 3, 4, 5, 6, 7, 8, 9, 10, 11, 12, 13, 14, 15, 16, 17, 18, 19, 20, 21, 22, 23, 24, 25, 26, 27, 28, 29, 30, 31, 32, 33, 34, 35, 36, 37, 38, 39, 40, 41, 42, 43, 44, 45, 46, 47, 48, 49, 50, 51, 52, 53, 54, 55, 56, 57, 58, 59, 60, 61, 62, 63, 64, 65, 66, 67, 68, 69, 70, 71, 72, 73, 74, 75, 76, 77, 78, 79, 80, 81, 82, 83, 84, 85, 86, 87, 88, 89, 90, 91, 92, 93, 94, 95, 96, 97, 98, 99, 100]\n",
      "100\n",
      "[[], [], [], [], [], [], [], [], [], [], [], [], [], [], [], [], [], [], [], [], [], [], [], [], [], [], [], [], [], [], [], [], [], [], [], [], [], [], [], [], [], [], [], [], [], [], [], [], [], [], [], [], [], [], [], [], [], [], [], [], [], [], [], [], [], [], [], [], [], [], [], [], [], [], [], [], [], [], [], [], [], [], [], [], [], [], [], [], [], [], [], [], [], [], [], [], [], [], [], []]\n",
      "[['Ghe', 'goi', 'dau', 'loai', '1', 'chinh', 'hang', 'giam', 'gia', 'con', 'hang', 'cong', 'ty', 'chinh', 'hang', 'giam', 'gia', 'con', 'thoi', 'gian', 'khuyen', 'mai', 'het', 'ngay', 'luu', 'y'], ['Anh', 'thay', 'em', 'tuoi', 'tho', 'du', 'doi', 'a', 'phet', 'day.', 'Viet', 've', 'sau', 'phong', 'van', 'ho', 'hoi', 'day.', 'Se', 'co', 'cam', 'giac', 'than', 'thien'], ['Chuc', 'mung', '093', 'xxx', 'nhan', 'duoc', 'bai', 'hat', 'Vip', '\"Luc', 'moi', 'yeu\"', 'tu', 'mot', 'nguoi', 'ban', 'ten', 'H', 'tang.', 'De', 'nghe', 'bai', 'hat', 'va', 'loi', 'nhan', 'duoc', 'ghi', 'am', 'soan:', 'VIP', 'gui', '7799'], ['Troi', 'dep', 'thi', 'bao', 'troi', 'dep,', 'u', 'ko', 'dien', 'den', 'muc', 'i', 'dau.', 'Co', '1', 'it', 'nc', 'mat', 'roi.', 'Hoho', 'minh', 'chua', 'bi', 'lanh', 'cam', ':v'], ['Ranh', 'tao', 'nho', 'chut', 'viec'], ['Nhan', 'dip', 'ra', 'mat', 'tang', 'Quy', 'khach', 'SBC', 'se', 'du', 'doan', 'trung', '...'], ['Ban', 'duoc', 'tang', 'Tuyen', 'tap', '500', 'GAME', 'ONLINE', 'chon', 'loc', 'cuc', 'hay'], ['ko', 'phai', 'ninh', 'dam.', 'tu', 'nhien', 'nghi', 'ra', 'de', 'nt', 'ah'], ['Duoc', 'roi', 'dang', 'nao', 'cung', 'phai', 'qua', 'ben', 'do', 'nop', 'don.', 'Haizzzzz', 'sao', 'ma', 'bao', 'luu', 'cung', 'thay', 'tiec', 'qua.suy', 'nghi', 'may', 'hnay', 'roi'], ['May', 'dang', 'o', 'dau', 'the'], ['Xin', 'cam', 'on', 'va', 'chuc', 'mung', 'ban', 'cung', '5585', 'ban', 'khac', 'voi', 'cap', '33-88', 'cua', 'VD', 'hom', 'qua', 'Hom', 'nay', 'VD', 'mua', 'tiep', '1', 'cap', 'cam', 'ket', 'an', 'ca', '2,', 'co', 'the', 'an', 'DB'], ['chac', 'ko', 'dau.', 'ong', 'anh', 'dua', 'di', 'thi', 'em', 'moi', 'di', 'duoc.', 'em', 'chua', 'vao', 'duong', 'hoa'], ['chinh', 'a', 'cung', 'goi', 'la', 'ba', 'gia', 'roi', 'con', 'noi', 'gi', 'nua.', 'roi', 'the', 'thi', 'ngoi', 'ngoai', 'duong', 'thoi.'], ['Cau', 'goi', 'dien', 'cho', 'thay', 'chua.', 'Hom', 'nay', 'len', 'gap', 'khong', 'tren', 'lab', 'chi', 'co', 'thay', 'thoi'], ['co', '3', 'nguoi', 'giong', 'em.', 'con', 'vai', 'nguoi', 'nua', 'duoi', '3', 'nhung', 'a', 'ko', 've', 'nha', 'dau', 'dang', 'ngoi', 'o', 'ho', 'tien'], ['Chuc', 'anh', 'vui', 've'], ['Thanh', 'ly', 'hang', 'he', 'hang', 'cong', 'so', 'quan', 'ao', 'hang', 'thu', 'gia', 'cuc', 're', 'quy', 'khach', 'vui', 'long', 'toi', 'dia', 'chi'], ['Chuc', 'mung', 'nam', 'moi!'], ['chuan', 'bi', '$', 'hoc', 'lai', 'tiep'], ['ko', 'sao', 'ca', 'di', 'ngu', 'som', 'di.'], ['Dang', 'ky', 'goi', 'Tan', 'Mao', 'de', 'tiet', 'kiem', '97%', 'cuoc', 'goi', 'noi', 'mang,', 'soan', 'Y1', 'gui', 'den', '999', 'de', 'dang', 'ki', 'goi', '30phut/ngay', 'voi', '2.500d,', 'soan', 'Y2', 'voi', '5.000d', 'goi', '90phut/ngay'], ['(QC)', 'Soan', 'tin', 'DK', 'gui', '9224', 'de', 'dang', 'ki', 'FunRing', 'hoac', 'CHON', 'MANHACCHO', 'gui', '9224', 'de', 'tai', 'nhac', 'cho', 'va', 'gianh', 'co', 'hoi', 'trung', '3', 'xe', 'Yamaha', 'Cuxi,', '8', 'Nokia', 'E72', 'tu', 'Mobifone.', 'Top', 'nhac', 'Hot', 'thang', '4:', 'Vi', 'sao:5429467,', 'Ton', 'tho', 'mot', 'tinh', 'yeu:', '51210445,', 'Tinh', 'yeu', 'hoa', 'gio:', '572119.', 'Tu', 'choi', 'QC', 'soan', 'tin'], ['Tri', 'An', 'KH', 'MOBIFONE', 'Dau', 'Nam', 'tang', 'LOC', 'VANG', 'cho', 'TB', '090...', 'Lay', 'Ket', 'Qua', 'Xo', 'So,', 'CAU', 'BACH', 'THU,', 'XIU', 'CHU', 'Cam', 'Ket', 'Trung', '100%'], ['QC', 'Ban', 'da', 'nhan', 'duoc', 'LOI', 'CHUC', 'NAM', 'MOI', 'tu', 'mot', 'nguoi', 'ban', '(', 'yeu', 'cau', 'giau', 'ten', ')', 'Loi', 'chuc', 'kem', 'theo', 'qua', 'tang', 'goi', 'DV'], ['Cay', 'Online.', 'Tai', 'MIEN', 'PHI,', 'tang', 'ngay', '50k', 'Tai', 'Khoan', 'Game', 'http://'], ['Ban', 'co', 'so', 'SERI', '2281969', 'TRUNG', 'VOI', 'ngay', 'thanh', 'lap', 'CTy', 'XSMB', 'Chung', 'Toi', 'da', 'co', '1Kep', 've', '2nhay', 'gui', 'tang', 'ban:', 'Nhan', 'So:', 'Soan', 'LK', 'gui', '8709'], ['Cam', 'on', 'cau', 'nhieu', 'nhe'], ['QC.Mot', 'nguoi', 'da', 'goi', 'truc', 'tiep', 'den', 'tong', 'dai', 'yeu', 'cau', 'gui', 'tang', 'ban', 'BAI', 'HAT', '&', 'ghi', 'am', 'LOI', 'NHAN', 'thoai', 'gui', 'den', 'Ban.De', 'nhan', 'BAI', 'HAT', '&', 'nghe', 'LOI', 'NHAN', 'soan:', 'DK', 'gui', '7775'], ['Re', 'nhat', 'rong', 'bay', 'tu', 'quy', 'du', 'loai,', 'website', 'chuyen', 'sim', 'so', 'dep', 'viettel', 'cac', 'loai', 'uy', 'tin', 'bao', 'hanh', 'tron', 'doi.', 'LH', 'hanh', 'phuc', 'duoc', 'phuc', 'vu', 'quy', 'anh', 'chi.'], ['Ban', 'biet', 'thu', 'Phap', 'co', 'mat', 'pho', 'Tran', 'Quoc', 'Toan,', 'so', 'do', 'chinh', 'chu', 'ten', 'tu', 'nhan,', 'dien', 'tich', '241', 'm2,', 'mat', 'tien', 'm,', 'hau', 'rong', 'm,', 'gia', 'ca', 'thoa', 'thuan.', 'Lien', 'he', 'bac', 'Khanh'], ['Lang', 'le', 'rut', 'lui', 'ah?', 'U', 'van', 'muon', 'nghe', '1', 'loi', 'giai', 'thich', ':('], ['Uh', 'anh', 'dang', 'o', 'tren', 'phong', 'dao', 'tao', 'day.', 'Nhung', 'ho', 'chua', 'lam', 'viec', 'lat', 'anh', 'hoi', 'cho'], ['Mo', 'ban', 'du', 'an', 'Golden', 'Land', '-', '275', 'Nguyen', 'Trai', '-', 'gia', 'goc', 'chu', 'dau', 'tu', '-', 'LH:', 'dia', 'chi'], ['Troi', 'ret', 'nam', 'trong', 'chan', 'am', 'vai.', 'Dech', 'muon', 'di', 'hoc.', 'Nghi', 'de.'], ['Chuc', 'ngu', 'ngon', 'nhe'], ['Voi', 'hoi', 'ho', 'cho', 'em?', 'Da', 'ap', 'dung', 'luat', 'duoi', '3', 'voi', 'vb2', 'chua?'], ['Ret', 'qua.', 'Em', 'doi', 'di', 'choi', 'thanh', 'cong', 'chua?'], ['Nay,', 'cau', 'di', 'ngu', 'ngay', 'di'], ['KM', 'dac', 'biet', 'mung', 'nam', 'moi.', 'Dem', 'loxo,', 'dem', 'bong', 'ep,', 'chan', 'ga', 'goi,', 'chan', 'loxo...'], ['Biet', 'ma.', 'U', 'doc', '1', 'doan', '2', 'thang', 'nc', 'vs', 'nhau:', '\"m', 'ma', 'thit', 'dc', 'em', 'i', 'thi', 'tha', 'ho,', 'luc', 'i', \"cu'\", 'tha', 'ra', 'no', 'van', 'phai', \"ba'm\", 'm\"', 'mia', 'no!', 'Ke', 'ca', 'la', 'ck', 'thi', 'u', 'van', 'bo', 'chu', 'ko', 'phai', 'ngy.'], ['Ban', 'can', 'ho', 'chung', 'cu', 'mini', 'Xuan', 'Dinh,', 'vao', 'o', 'ngay,', 'can', 'ho', 'hoan', 'thien,', 'noi', 'that', 'cao', 'cap', 'LH'], ['Top', 'nhac', 'Hot', 'thang', '4:', 'Vi', 'sao:5429467,', 'Ton', 'tho', 'mot', 'tinh', 'yeu:', '51210445,', 'Tinh', 'yeu', 'hoa', 'gio:', '572119.', 'Tu', 'choi', 'QC', 'soan', 'tin'], ['Troi', 'ret', 'nam', 'trong', 'chan', 'am', 'vai.', 'Dech', 'muon', 'di', 'hoc.', 'Nghi', 'de.'], ['Cty', 'chuyen', 'cung', 'cap', 'binh', 'ngam', 'ruou', 'sam', 'han', 'quoc', 'cuc', 'dep', 'gia', 'cuc', 're', 'tai', 'TP', 'HCM.', 'lien', 'he', 'dia', 'chi'], ['nam', 'xem', 'tao', 'quan.', 'lat', 'nua', 'thu', 'doi', 'di', 'choi', 'xem', 'co', 'dc', 'ko'], ['Bep', 'hong', 'ngoai', 'Panasonic', 'moi', '100%', 'chi', '289K', 'va', 'tang', 'kem', '1', 'vi', 'nuong.', 'Bao', 'hanh', '12', 'thang.', 'LH', 'dia', 'chi'], ['QC', 'VMS2', 'Ma', 'du', 'thuong', 'cT', '\"Alo', 'ngay', 'tien', 'day', 'tay\"', ':', 'Tu', '000...', 'den', '000...', 'Tu', 'choi', 'nhan', 'Ma', 'du', 'thuong,', 'soan', 'TC1', 'gui', '9241'], ['VUI', 'XUAN:', 'Gai', '1Con', 'lam', 'xxx', 'cuc', 'PHE', 'Tai', 've', 'xem', 'ngay.', 'Mien', 'Phi:', 'http://'], ['Cau', 'luu', 'them', 'so', 'cua', 'Trung', 'vao', 'Cau', 'dep', 'trai', 'deo', 'kinh', 'nhom', 'truong', 'ngai', 'hen', 'thay', 'thi', 'cu', 'goi', 'cho', 'cau', 'nay', 'truoc'], ['Duoi', '5', 'nguoi', 'thi', 'ko', 'mo', 'lop.', 'H', 'con', 'cach', 'la', 'hoc', 'lai', 'cung', 'k', 'truoc', 'thoi.', 'Cam', 'thay', 'qua', 'suc', 'thi', 'bao', 'luu', 'anh', 'thay', 'cung', 'kho', 'nang', 'ne', 'lam.co', 'len', \"beo':-)\"], ['Hom', 'nay', 'VD', 'mua', 'tiep', '1', 'cap', 'cam', 'ket', 'an', 'ca', '2,', 'co', 'the', 'an', 'DB'], ['Hien', 'nay', 'co', 'cap', 'LO', 'TO', 'chac', 'an', 'trong', 'ngay.', 'De', 'lay', 'soan', 'VNT', 'gui', '7393', 'gia', '3000', 'dong'], ['Con', 'oi,', 'u', 'co', 'nen', 'gap', 'lao', 'i', 'noi', 'ro', 'rang', 'het', 'moi', 'chuyen', 'ko?'], ['Lau', 'Nuong', 'UPA-UPA', '(Phong', 'cach', 'KOREA)', 'Tai', '2', 'PHAM', 'NGOC', 'THACH', '(CAU', 'TRUNG', 'TU)', 'HA', 'NOI.Chi', 'Con', '127Nghin', 'Nguoi', 'Buffee', 'An', 'thoai', 'mai', 'Khuyen', 'Mai', 'Tu', '01-09', '12-2012'], ['The', 'a,', 'bao', 'gio', 'the', 'ha', 'cau'], ['(ClipXXX)6', 'Clip', '18+', 'em', 'MyPhuong', 'voi', 'Sep(nghe', 'PHE', 'vai)', 'http://'], ['Neu', 'lao', 'i', 'muon', 'gthich', 'lao', 'i', 'phai', 'hen', 'u', 'chu', 'nhi?'], ['Anh', 'oi,', 'em', 'moi', 'ban', 'nham', 'tien', 'qua', 'may', 'anh,', 'anh', 'gui', 'lai', 'giup', 'em', 'duoc', 'khong', 'a!', 'Em', 'sinh', 'vien', 'chang', 'co', 'nhieu', 'tien,', 'anh', 'giup', 'em', 'thi', 'tot', 'qua.'], ['Co', 'ban', 'gai', 'dang', 'yeu', 'ten', 'H', 'xxx', 'gui', 'tang', 'TB', '0913', 'xxx', 'mot', 'nhac', 'pham', 'voi', 'loi', 'nhan', 'Hy', 'vong', 'nhan', 'ra', 'em', 'qua', 'bai', 'hat', 'nay'], ['Chuyen', 'cung', 'cap', 'thep', 'V', 'lo', 'da', 'nang', 'gia', 'si', 'va', 'le', 'LH', 'dia', 'chi', 'Viet', 'Cuong', 'Phat', 'DC'], ['Ban', 'BT', 'song', 'lap', 'tai', 'DTM', 'My', 'Dinh', 'dt', '138', 'm2,', 'MT', '11m,', 'da', 'hoan', 'thien', 'dep', '3.5', 'tang,', 'co', 'gara', 'oto,', 'noi', 'that', 'hien', 'dai,', 'truoc', 'nha', '12m,', 'gan', 'duong', 'Doan', 'Thi', 'Diem.', 'Gia', '19', 'ty.', 'Lien', 'he:'], ['Sua', 'Laptop', 'Lay', 'tien,', 'uy', 'tin,', 'hieu', 'qua,', 'gia', 're,', 'chuyen', 'nghiep', 'LH:', 'Mr', 'Phong'], ['Mang', 'len', 'co', '1', 'it', 'thoi', 'a?', 'Xach', 'bao', 'nhieu', 'do', 'nhu', 'vay', 'lai', 'con', 'mang', 'them', 'nua.', 'Sao', 'ko', 'mang', '1', 'bao', 'tai', 'cho', 'bo~', 'cong', '.:-)'], ['Hay', 'anh', 'len', 'cho', 'vien', 'kinh', 'te', 'hoi', 'chi', 'van', 'anh', 'giup', 'em', 'voi?', 'Em', 'so', 'diem', 'trac', 'thi', 'chi', 'tren', 'day', 'moi', 'biet.'], ['Gi', 'ma', 'vo', 'nghia?', 'Con', 'dang', 'chet', 'di', 'trong', 'cai', 'van', 'phong', 'day', 'ah?', 'Ra', 'ngoai', 'ma', 'nhin', 'troi', 'dep', 'that', 'day,', 'do', \"be'o\", 'i..'], ['Mo', 'ban', '100.000', 've', '\"Bay', 'khap', 'Viet', 'Nam\"', 'gia', 'co', '10.000', 'dong', 'tai', 'www.vietjetair.', 'com', 'tu', '21h-23h59', 'ngay', '10,11,12.', 'Hotline', '19001886'], ['BAN', 'LA', 'NGUOI', 'MAY', 'MAN!', 'HaLinh', 'Tang', 'ban', '5', 'Lan', 'Dau', 'Gia', 'MIEN', 'PHI', '1', 'Cay', 'Vang', '9999', '(17trieu)', 'ne', 'CoHoi', 'DacBiet', 'chi', 'co', 'Trong', 'Hom', 'Nay', 'Thoi!', 'Soan:', 'DG', 'GIA', 'gui', '8752'], ['Em', 'nghi', 'the', 'thoi.', 'Dung', 'la', 'ba', 'gia.', 'Anh', 'lam', 'roi', 'mat', 'cai', 'the', 'ra', 'vao', 'cty', 'roi.', 'H', 'chang', 'biet', 'lam', 'the', 'nao', 'ca.'], ['So', 'huu', 'vong', 'eo', 'thon', 'gon', 'san', 'chac', 'la', 'muc', 'tieu', 'khong', 'chi', 'rieng', 'chi', 'em', 'phai', 'dep.', 'dai', 'massage', 'giam', 'gia', 'dac', 'biet', 'chi', 'con'], ['be', 'ngoai', 'thi', 'the', 'thoi.', 'em', 'phai', 'lon', 'hon', 'a', '2', 'tuoi', 'la', 'it.', 'vay', 'thoi,', 'cmsn', 'hut'], ['Anh', 'xem', 'ds', 'co', 'ai', 'duoi', '3', 'ko?'], ['Son', 'chat', 'luong', 'cao,', 'giao', 'hang', 'tan', 'noi,', 'gia', 'ca', 'canh', 'tranh.', 'LH', 'dia', 'chi'], ['Real', 'Madrid', '-', 'Barcelona', 'Hay', 'soan', 'tin:', 'BD', 'RMA', 'gui', '8779', 'de', 'CHIEN', 'THANG', 'KET', 'QUA', 'CHO:', 'BD', 'RMA', 'gui', '8579.', 'TAI', 'XIU', 'SANG', 'NHAT:', 'BD', 'TX', 'gui', '8779'], ['Chuc', 'cau', 'nam', 'moi', 'vui', 've', 'gap', 'nhieu', 'dieu', 'may', 'man', 'va', 'thanh', 'cong', 'trong', 'su', 'nghiep'], ['Ban', 'da', 'dang', 'ki', 'tu', 'choi', 'nhan', 'tin', 'QC!', 'Tin', 'nhan', 'quang', 'cao', 'se', 'khong', 'duoc', 'gui', 'toi', 'so', 'thue', 'bao', 'cua', 'ban', 'nua!', 'Chuc', 'ban', '1', 'ngay', 'vui', 've,tot', 'lanh!'], ['Gia', 'soc:', 'nhan', 'dip', '30/4', '1/5', 'giam', 'gia', 'cuc', 'soc', 'cho', 'sim', 'so', 'dep', 'tu', '23/4', '3/5', 'Co', 'hoi', 'co', '1', 'khong', '2', 'Lien', 'he', 'giao', 'dich'], ['Chung', 'cu', 'ban', 'gia', 'goc', '16,2', 'trieu', 'dong/m2,', 'thanh', 'toan', '9', 'dot,', 'nam', 'ngay', 'tren', 'mat', 'duong', 'Pham', 'Van', 'Dong,', 'Tu', 'Liem,', 'cach', 'Cau', 'Giay', '15', 'phut', 'di', 'xe', 'may.', 'Quy', 'khach', 'vui', 'long', 'lien', 'he', 'de', 'duoc', 'tu', 'van', 'mien', 'phi'], ['Cuoc', 'song', 'ngay', 'cang', 'kho', 'khan'], [':))', 'anh', 'dua', 'thoi.', 'Da', 'mang', '1', 'dong', 'quan', 'ao', 'lai', 'xach', 'them', 'nua', 'cho', 'nang', 'ra.'], ['the', 'ko', 'con', 'dua', 'nao', 'doc', 'than', 'giong', 'anh', 'ah.'], ['Can', 'ho', 'doidien', 'cho', 'Pham', 'Van', 'Hai,', 'Tan', 'Binh', 'chi', '1,6', 'ty/can', '(da', 'bao', 'gom', 'VAT)', 'LH', 'dia', 'chi'], ['Tu', 'viettel', 'tang', '50%', 'gia', 'tri', 'the', 'nap', 'cho', 'thue', 'bao', 'tra', 'truoc.', 'So', 'tien', 'cong', 'them', 'su', 'dung', 'cho', 'goi', 'va', 'nhan', 'tin', 'ngoai', 'mang', 'noi', 'mang'], ['Du', 'an', 'Dolphin', 'Plaza,', '28', 'Tran', 'Binh,', 'Cau', 'giay', ',', 'Ha', 'noi.', 'Thiet', 'ke', 'rat', 'hien', 'dai', 'cua', 'Singapore,', 'hon', '6000', 'm2', 'san', 'vuon,', 'cay', 'xanh', 'mat', 'dat,', 'hon', '3000', 'm2', 'lam', 'khu', 'sinh', 'thai', 'tai', 'cot', '17,5m,', 'be', 'boi', 'cho', 'nguoi', 'lon,', 'be', 'boi', 'cho', 'tre', 'em,', 'san', 'tam', 'nang', 'ngay'], ['WapPush:', 'Sexy>>Emgai', 'thoi', 'ken', 'nhin', 'rat', 'PHE(13phut', 'ban', 'dep)', 'http://'], ['TV', '6723', 'Ban', 'Muon', 'Biet', 'TU', 'VI', 'trong', 'nam', '2012', 'TIEN', 'BAC-CONG', 'DANH-TINH', 'DUYEN', '&', 'cach', 'giai', 'VAN', 'nhu', 'the', 'nao.', 'Soan:', 'TV', 'Namsinh', 'gui', '6723.'], ['Mai', 'di', 'tap', 'the', 'duc', 'thi', 'goi', 'to', 'nhe'], ['BAN', 'LA', 'NGUOI', 'MAY', 'MAN', 'HaLinh', 'Tang', 'ban', '5', 'Lan', 'DauGia', 'MIEN', 'PHI', '1', 'Cay', 'Vang', '9999', '(17trieu)', 'ne', 'CoHoi', 'Dac', 'Biet', 'chi', 'co', 'Trong', 'Hom', 'Nay', 'Thoi', 'Soan:', 'DG', 'GIA', 'gui', '8752'], ['Quen', 'mat', 'chua', 'rua', 'da', 'mang', 'cho', 'a.', 'E', 'vua', 'di', 've.'], ['Ban', 'Laptop', 'cu,', 'laptop', 'core', 'i5,', 'laptop', 'core', 'i3,', 'tem', 'zin', 'gia', 're', 'LH:'], ['the', 'ngay', 'duong', 'la', 'luc', 'nao.', 'hoa', 'ra', 'a', 'sinh', 'sau', 'em', 'may', 'thang', 'lien'], ['Cung', 'cap', 'gian', 'gia', 'gia', 'ke', 'shop', 'thoi', 'trang', 'gia', 'goc', 'va', 'nhan', 'thiet', 'ke,', 'gia', 'cong', 'shop', 'gia', 're', 'lien', 'he', 'dia', 'chi'], ['The', 'co', 'bao', 'luu', 'cung', 'anh', 'ko.', 'Trong', 'tg', 'bao', 'luu', 'van', 'dang', 'ky', 'hoc', 'lai', 'thoai', 'mai.chi', 'ay', 'bao', 'the'], ['Hom', 'nay', 'di', 'hoc', 'co', 'vui', 'khong', '?'], ['Thoi', 'duoc', 'roi.', 'Ma', 'anh', 'di', 'lam', 'thi', 'chang', 'onl', 'dau', 'ma', 'biet.', 'Ve', 'toi', 'kp', 'face', 'thi', 'lay', 'gi', 'giai', 'tri?'], [':(', 'biet', 'the', 'nho', 'em', 'mang', 'cho', '2', 'it', 've', 'giat', 'h', 'lai', 'phai', 'di', 'gat', 'quan', 'ao'], ['Ban', 'da', 'dang', 'ki', 'tu', 'choi', 'nhan', 'tin', 'QC!', 'Tin', 'nhan', 'quang', 'cao', 'se', 'khong', 'duoc', 'gui', 'toi', 'so', 'thue', 'bao', 'cua', 'ban', 'nua!Chuc', 'ban', '1', 'ngay', 'vui', 've,tot', 'lanh!'], ['U', 'ch?', 'qua', 'd?y', 'l?y', 't?m', '6h', 'k?', '10'], ['Cty', 'Dinh', 'Thai', '-', 'Chuyen', 'sx', 'cac', 'loai', 'dien', 'tro', 'dot', 'nong', 'dung', 'trong', 'cong', 'nghiep', 'va', 'dan', 'dung.', 'Lh', 'DC'], ['TV', '6723', 'Ban', 'Muon', 'Biet', 'TU', 'VI', 'trong', 'nam', '2012', 'TIEN', 'BAC', 'CONG', 'DANH', 'TINH', 'DUYEN', '&', 'cach', 'giai', 'VAN', 'nhu', 'the', 'nao.', 'Soan:', 'TV', 'Namsinh', 'gui', '6723.'], ['C', 'cung', 'biet', 'so', 'co', 'a']]\n",
      "['-1', '1', '-1', '1', '1', '-1', '-1', '1', '1', '1', '-1', '1', '1', '1', '1', '1', '-1', '1', '1', '1', '-1', '-1', '-1', '-1', '-1', '-1', '1', '-1', '-1', '-1', '1', '1', '-1', '1', '1', '1', '1', '1', '-1', '1', '-1', '-1', '1', '-1', '1', '-1', '-1', '-1', '1', '1', '-1', '-1', '1', '-1', '1', '-1', '1', '-1', '-1', '-1', '-1', '-1', '1', '1', '1', '-1', '-1', '1', '-1', '1', '1', '-1', '-1', '1', '-1', '-1', '-1', '1', '1', '1', '-1', '-1', '-1', '-1', '-1', '1', '-1', '1', '-1', '1', '-1', '1', '1', '1', '1', '-1', '1', '-1', '-1', '1']\n"
     ]
    }
   ],
   "source": [
    "label = []\n",
    "line = [[] for i in range(100)]\n",
    "print range(101)\n",
    "print len(line)\n",
    "print line\n",
    "for i in range(len(set_message)):\n",
    "    line[i] = set_message[i].split()    \n",
    "    label.append(line[i][0])\n",
    "    line[i].__delitem__(0)\n",
    "print line\n",
    "print label\n"
   ]
  },
  {
   "cell_type": "code",
   "execution_count": 33,
   "metadata": {
    "collapsed": false
   },
   "outputs": [
    {
     "name": "stdout",
     "output_type": "stream",
     "text": [
      "['-1', '1', '-1', '1', '1', '-1', '-1', '1', '1', '1', '-1', '1', '1', '1', '1', '1', '-1', '1', '1', '1', '-1', '-1', '-1', '-1', '-1', '-1', '1', '-1', '-1', '-1', '1', '1', '-1', '1', '1', '1', '1', '1', '-1', '1', '-1', '-1', '1', '-1', '1', '-1', '-1', '-1', '1', '1', '-1', '-1', '1', '-1', '1', '-1', '1', '-1', '-1', '-1', '-1', '-1', '1', '1', '1', '-1', '-1', '1', '-1', '1', '1', '-1', '-1', '1', '-1', '-1', '-1', '1', '1', '1', '-1', '-1', '-1', '-1', '-1', '1', '-1', '1', '-1', '1', '-1', '1', '1', '1', '1', '-1', '1', '-1', '-1', '1']\n"
     ]
    }
   ],
   "source": [
    "print(label)"
   ]
  },
  {
   "cell_type": "code",
   "execution_count": 34,
   "metadata": {
    "collapsed": true
   },
   "outputs": [],
   "source": [
    "## noi cac phan tu trong cung mot cau thanh cau\n",
    "for i in range(len(line)):\n",
    "    line[i] = ' '.join(line[i])"
   ]
  },
  {
   "cell_type": "code",
   "execution_count": 35,
   "metadata": {
    "collapsed": false
   },
   "outputs": [
    {
     "data": {
      "text/plain": [
       "['Ghe goi dau loai 1 chinh hang giam gia con hang cong ty chinh hang giam gia con thoi gian khuyen mai het ngay luu y',\n",
       " 'Anh thay em tuoi tho du doi a phet day. Viet ve sau phong van ho hoi day. Se co cam giac than thien',\n",
       " 'Chuc mung 093 xxx nhan duoc bai hat Vip \"Luc moi yeu\" tu mot nguoi ban ten H tang. De nghe bai hat va loi nhan duoc ghi am soan: VIP gui 7799',\n",
       " 'Troi dep thi bao troi dep, u ko dien den muc i dau. Co 1 it nc mat roi. Hoho minh chua bi lanh cam :v',\n",
       " 'Ranh tao nho chut viec',\n",
       " 'Nhan dip ra mat tang Quy khach SBC se du doan trung ...',\n",
       " 'Ban duoc tang Tuyen tap 500 GAME ONLINE chon loc cuc hay',\n",
       " 'ko phai ninh dam. tu nhien nghi ra de nt ah',\n",
       " 'Duoc roi dang nao cung phai qua ben do nop don. Haizzzzz sao ma bao luu cung thay tiec qua.suy nghi may hnay roi',\n",
       " 'May dang o dau the',\n",
       " 'Xin cam on va chuc mung ban cung 5585 ban khac voi cap 33-88 cua VD hom qua Hom nay VD mua tiep 1 cap cam ket an ca 2, co the an DB',\n",
       " 'chac ko dau. ong anh dua di thi em moi di duoc. em chua vao duong hoa',\n",
       " 'chinh a cung goi la ba gia roi con noi gi nua. roi the thi ngoi ngoai duong thoi.',\n",
       " 'Cau goi dien cho thay chua. Hom nay len gap khong tren lab chi co thay thoi',\n",
       " 'co 3 nguoi giong em. con vai nguoi nua duoi 3 nhung a ko ve nha dau dang ngoi o ho tien',\n",
       " 'Chuc anh vui ve',\n",
       " 'Thanh ly hang he hang cong so quan ao hang thu gia cuc re quy khach vui long toi dia chi',\n",
       " 'Chuc mung nam moi!',\n",
       " 'chuan bi $ hoc lai tiep',\n",
       " 'ko sao ca di ngu som di.',\n",
       " 'Dang ky goi Tan Mao de tiet kiem 97% cuoc goi noi mang, soan Y1 gui den 999 de dang ki goi 30phut/ngay voi 2.500d, soan Y2 voi 5.000d goi 90phut/ngay',\n",
       " '(QC) Soan tin DK gui 9224 de dang ki FunRing hoac CHON MANHACCHO gui 9224 de tai nhac cho va gianh co hoi trung 3 xe Yamaha Cuxi, 8 Nokia E72 tu Mobifone. Top nhac Hot thang 4: Vi sao:5429467, Ton tho mot tinh yeu: 51210445, Tinh yeu hoa gio: 572119. Tu choi QC soan tin',\n",
       " 'Tri An KH MOBIFONE Dau Nam tang LOC VANG cho TB 090... Lay Ket Qua Xo So, CAU BACH THU, XIU CHU Cam Ket Trung 100%',\n",
       " 'QC Ban da nhan duoc LOI CHUC NAM MOI tu mot nguoi ban ( yeu cau giau ten ) Loi chuc kem theo qua tang goi DV',\n",
       " 'Cay Online. Tai MIEN PHI, tang ngay 50k Tai Khoan Game http://',\n",
       " 'Ban co so SERI 2281969 TRUNG VOI ngay thanh lap CTy XSMB Chung Toi da co 1Kep ve 2nhay gui tang ban: Nhan So: Soan LK gui 8709',\n",
       " 'Cam on cau nhieu nhe',\n",
       " 'QC.Mot nguoi da goi truc tiep den tong dai yeu cau gui tang ban BAI HAT & ghi am LOI NHAN thoai gui den Ban.De nhan BAI HAT & nghe LOI NHAN soan: DK gui 7775',\n",
       " 'Re nhat rong bay tu quy du loai, website chuyen sim so dep viettel cac loai uy tin bao hanh tron doi. LH hanh phuc duoc phuc vu quy anh chi.',\n",
       " 'Ban biet thu Phap co mat pho Tran Quoc Toan, so do chinh chu ten tu nhan, dien tich 241 m2, mat tien m, hau rong m, gia ca thoa thuan. Lien he bac Khanh',\n",
       " 'Lang le rut lui ah? U van muon nghe 1 loi giai thich :(',\n",
       " 'Uh anh dang o tren phong dao tao day. Nhung ho chua lam viec lat anh hoi cho',\n",
       " 'Mo ban du an Golden Land - 275 Nguyen Trai - gia goc chu dau tu - LH: dia chi',\n",
       " 'Troi ret nam trong chan am vai. Dech muon di hoc. Nghi de.',\n",
       " 'Chuc ngu ngon nhe',\n",
       " 'Voi hoi ho cho em? Da ap dung luat duoi 3 voi vb2 chua?',\n",
       " 'Ret qua. Em doi di choi thanh cong chua?',\n",
       " 'Nay, cau di ngu ngay di',\n",
       " 'KM dac biet mung nam moi. Dem loxo, dem bong ep, chan ga goi, chan loxo...',\n",
       " 'Biet ma. U doc 1 doan 2 thang nc vs nhau: \"m ma thit dc em i thi tha ho, luc i cu\\' tha ra no van phai ba\\'m m\" mia no! Ke ca la ck thi u van bo chu ko phai ngy.',\n",
       " 'Ban can ho chung cu mini Xuan Dinh, vao o ngay, can ho hoan thien, noi that cao cap LH',\n",
       " 'Top nhac Hot thang 4: Vi sao:5429467, Ton tho mot tinh yeu: 51210445, Tinh yeu hoa gio: 572119. Tu choi QC soan tin',\n",
       " 'Troi ret nam trong chan am vai. Dech muon di hoc. Nghi de.',\n",
       " 'Cty chuyen cung cap binh ngam ruou sam han quoc cuc dep gia cuc re tai TP HCM. lien he dia chi',\n",
       " 'nam xem tao quan. lat nua thu doi di choi xem co dc ko',\n",
       " 'Bep hong ngoai Panasonic moi 100% chi 289K va tang kem 1 vi nuong. Bao hanh 12 thang. LH dia chi',\n",
       " 'QC VMS2 Ma du thuong cT \"Alo ngay tien day tay\" : Tu 000... den 000... Tu choi nhan Ma du thuong, soan TC1 gui 9241',\n",
       " 'VUI XUAN: Gai 1Con lam xxx cuc PHE Tai ve xem ngay. Mien Phi: http://',\n",
       " 'Cau luu them so cua Trung vao Cau dep trai deo kinh nhom truong ngai hen thay thi cu goi cho cau nay truoc',\n",
       " \"Duoi 5 nguoi thi ko mo lop. H con cach la hoc lai cung k truoc thoi. Cam thay qua suc thi bao luu anh thay cung kho nang ne lam.co len beo':-)\",\n",
       " 'Hom nay VD mua tiep 1 cap cam ket an ca 2, co the an DB',\n",
       " 'Hien nay co cap LO TO chac an trong ngay. De lay soan VNT gui 7393 gia 3000 dong',\n",
       " 'Con oi, u co nen gap lao i noi ro rang het moi chuyen ko?',\n",
       " 'Lau Nuong UPA-UPA (Phong cach KOREA) Tai 2 PHAM NGOC THACH (CAU TRUNG TU) HA NOI.Chi Con 127Nghin Nguoi Buffee An thoai mai Khuyen Mai Tu 01-09 12-2012',\n",
       " 'The a, bao gio the ha cau',\n",
       " '(ClipXXX)6 Clip 18+ em MyPhuong voi Sep(nghe PHE vai) http://',\n",
       " 'Neu lao i muon gthich lao i phai hen u chu nhi?',\n",
       " 'Anh oi, em moi ban nham tien qua may anh, anh gui lai giup em duoc khong a! Em sinh vien chang co nhieu tien, anh giup em thi tot qua.',\n",
       " 'Co ban gai dang yeu ten H xxx gui tang TB 0913 xxx mot nhac pham voi loi nhan Hy vong nhan ra em qua bai hat nay',\n",
       " 'Chuyen cung cap thep V lo da nang gia si va le LH dia chi Viet Cuong Phat DC',\n",
       " 'Ban BT song lap tai DTM My Dinh dt 138 m2, MT 11m, da hoan thien dep 3.5 tang, co gara oto, noi that hien dai, truoc nha 12m, gan duong Doan Thi Diem. Gia 19 ty. Lien he:',\n",
       " 'Sua Laptop Lay tien, uy tin, hieu qua, gia re, chuyen nghiep LH: Mr Phong',\n",
       " 'Mang len co 1 it thoi a? Xach bao nhieu do nhu vay lai con mang them nua. Sao ko mang 1 bao tai cho bo~ cong .:-)',\n",
       " 'Hay anh len cho vien kinh te hoi chi van anh giup em voi? Em so diem trac thi chi tren day moi biet.',\n",
       " \"Gi ma vo nghia? Con dang chet di trong cai van phong day ah? Ra ngoai ma nhin troi dep that day, do be'o i..\",\n",
       " 'Mo ban 100.000 ve \"Bay khap Viet Nam\" gia co 10.000 dong tai www.vietjetair. com tu 21h-23h59 ngay 10,11,12. Hotline 19001886',\n",
       " 'BAN LA NGUOI MAY MAN! HaLinh Tang ban 5 Lan Dau Gia MIEN PHI 1 Cay Vang 9999 (17trieu) ne CoHoi DacBiet chi co Trong Hom Nay Thoi! Soan: DG GIA gui 8752',\n",
       " 'Em nghi the thoi. Dung la ba gia. Anh lam roi mat cai the ra vao cty roi. H chang biet lam the nao ca.',\n",
       " 'So huu vong eo thon gon san chac la muc tieu khong chi rieng chi em phai dep. dai massage giam gia dac biet chi con',\n",
       " 'be ngoai thi the thoi. em phai lon hon a 2 tuoi la it. vay thoi, cmsn hut',\n",
       " 'Anh xem ds co ai duoi 3 ko?',\n",
       " 'Son chat luong cao, giao hang tan noi, gia ca canh tranh. LH dia chi',\n",
       " 'Real Madrid - Barcelona Hay soan tin: BD RMA gui 8779 de CHIEN THANG KET QUA CHO: BD RMA gui 8579. TAI XIU SANG NHAT: BD TX gui 8779',\n",
       " 'Chuc cau nam moi vui ve gap nhieu dieu may man va thanh cong trong su nghiep',\n",
       " 'Ban da dang ki tu choi nhan tin QC! Tin nhan quang cao se khong duoc gui toi so thue bao cua ban nua! Chuc ban 1 ngay vui ve,tot lanh!',\n",
       " 'Gia soc: nhan dip 30/4 1/5 giam gia cuc soc cho sim so dep tu 23/4 3/5 Co hoi co 1 khong 2 Lien he giao dich',\n",
       " 'Chung cu ban gia goc 16,2 trieu dong/m2, thanh toan 9 dot, nam ngay tren mat duong Pham Van Dong, Tu Liem, cach Cau Giay 15 phut di xe may. Quy khach vui long lien he de duoc tu van mien phi',\n",
       " 'Cuoc song ngay cang kho khan',\n",
       " ':)) anh dua thoi. Da mang 1 dong quan ao lai xach them nua cho nang ra.',\n",
       " 'the ko con dua nao doc than giong anh ah.',\n",
       " 'Can ho doidien cho Pham Van Hai, Tan Binh chi 1,6 ty/can (da bao gom VAT) LH dia chi',\n",
       " 'Tu viettel tang 50% gia tri the nap cho thue bao tra truoc. So tien cong them su dung cho goi va nhan tin ngoai mang noi mang',\n",
       " 'Du an Dolphin Plaza, 28 Tran Binh, Cau giay , Ha noi. Thiet ke rat hien dai cua Singapore, hon 6000 m2 san vuon, cay xanh mat dat, hon 3000 m2 lam khu sinh thai tai cot 17,5m, be boi cho nguoi lon, be boi cho tre em, san tam nang ngay',\n",
       " 'WapPush: Sexy>>Emgai thoi ken nhin rat PHE(13phut ban dep) http://',\n",
       " 'TV 6723 Ban Muon Biet TU VI trong nam 2012 TIEN BAC-CONG DANH-TINH DUYEN & cach giai VAN nhu the nao. Soan: TV Namsinh gui 6723.',\n",
       " 'Mai di tap the duc thi goi to nhe',\n",
       " 'BAN LA NGUOI MAY MAN HaLinh Tang ban 5 Lan DauGia MIEN PHI 1 Cay Vang 9999 (17trieu) ne CoHoi Dac Biet chi co Trong Hom Nay Thoi Soan: DG GIA gui 8752',\n",
       " 'Quen mat chua rua da mang cho a. E vua di ve.',\n",
       " 'Ban Laptop cu, laptop core i5, laptop core i3, tem zin gia re LH:',\n",
       " 'the ngay duong la luc nao. hoa ra a sinh sau em may thang lien',\n",
       " 'Cung cap gian gia gia ke shop thoi trang gia goc va nhan thiet ke, gia cong shop gia re lien he dia chi',\n",
       " 'The co bao luu cung anh ko. Trong tg bao luu van dang ky hoc lai thoai mai.chi ay bao the',\n",
       " 'Hom nay di hoc co vui khong ?',\n",
       " 'Thoi duoc roi. Ma anh di lam thi chang onl dau ma biet. Ve toi kp face thi lay gi giai tri?',\n",
       " ':( biet the nho em mang cho 2 it ve giat h lai phai di gat quan ao',\n",
       " 'Ban da dang ki tu choi nhan tin QC! Tin nhan quang cao se khong duoc gui toi so thue bao cua ban nua!Chuc ban 1 ngay vui ve,tot lanh!',\n",
       " 'U ch? qua d?y l?y t?m 6h k? 10',\n",
       " 'Cty Dinh Thai - Chuyen sx cac loai dien tro dot nong dung trong cong nghiep va dan dung. Lh DC',\n",
       " 'TV 6723 Ban Muon Biet TU VI trong nam 2012 TIEN BAC CONG DANH TINH DUYEN & cach giai VAN nhu the nao. Soan: TV Namsinh gui 6723.',\n",
       " 'C cung biet so co a']"
      ]
     },
     "execution_count": 35,
     "metadata": {},
     "output_type": "execute_result"
    }
   ],
   "source": [
    "line"
   ]
  },
  {
   "cell_type": "code",
   "execution_count": 36,
   "metadata": {
    "collapsed": false,
    "scrolled": true
   },
   "outputs": [
    {
     "data": {
      "text/plain": [
       "100"
      ]
     },
     "execution_count": 36,
     "metadata": {},
     "output_type": "execute_result"
    }
   ],
   "source": [
    "len(label)"
   ]
  },
  {
   "cell_type": "code",
   "execution_count": 37,
   "metadata": {
    "collapsed": false
   },
   "outputs": [
    {
     "data": {
      "text/plain": [
       "100"
      ]
     },
     "execution_count": 37,
     "metadata": {},
     "output_type": "execute_result"
    }
   ],
   "source": [
    "len(line)"
   ]
  },
  {
   "cell_type": "code",
   "execution_count": 38,
   "metadata": {
    "collapsed": false
   },
   "outputs": [],
   "source": [
    "## chuyen doi list den DataFrame\n",
    "import pandas as pd\n",
    "message_Frame = pd.DataFrame({'label': label,\n",
    "                               'message': line}) "
   ]
  },
  {
   "cell_type": "code",
   "execution_count": 39,
   "metadata": {
    "collapsed": false
   },
   "outputs": [
    {
     "data": {
      "text/html": [
       "<div>\n",
       "<table border=\"1\" class=\"dataframe\">\n",
       "  <thead>\n",
       "    <tr style=\"text-align: right;\">\n",
       "      <th></th>\n",
       "      <th>label</th>\n",
       "      <th>message</th>\n",
       "    </tr>\n",
       "  </thead>\n",
       "  <tbody>\n",
       "    <tr>\n",
       "      <th>0</th>\n",
       "      <td>-1</td>\n",
       "      <td>Ghe goi dau loai 1 chinh hang giam gia con han...</td>\n",
       "    </tr>\n",
       "    <tr>\n",
       "      <th>1</th>\n",
       "      <td>1</td>\n",
       "      <td>Anh thay em tuoi tho du doi a phet day. Viet v...</td>\n",
       "    </tr>\n",
       "    <tr>\n",
       "      <th>2</th>\n",
       "      <td>-1</td>\n",
       "      <td>Chuc mung 093 xxx nhan duoc bai hat Vip \"Luc m...</td>\n",
       "    </tr>\n",
       "    <tr>\n",
       "      <th>3</th>\n",
       "      <td>1</td>\n",
       "      <td>Troi dep thi bao troi dep, u ko dien den muc i...</td>\n",
       "    </tr>\n",
       "    <tr>\n",
       "      <th>4</th>\n",
       "      <td>1</td>\n",
       "      <td>Ranh tao nho chut viec</td>\n",
       "    </tr>\n",
       "    <tr>\n",
       "      <th>5</th>\n",
       "      <td>-1</td>\n",
       "      <td>Nhan dip ra mat tang Quy khach SBC se du doan ...</td>\n",
       "    </tr>\n",
       "    <tr>\n",
       "      <th>6</th>\n",
       "      <td>-1</td>\n",
       "      <td>Ban duoc tang Tuyen tap 500 GAME ONLINE chon l...</td>\n",
       "    </tr>\n",
       "    <tr>\n",
       "      <th>7</th>\n",
       "      <td>1</td>\n",
       "      <td>ko phai ninh dam. tu nhien nghi ra de nt ah</td>\n",
       "    </tr>\n",
       "    <tr>\n",
       "      <th>8</th>\n",
       "      <td>1</td>\n",
       "      <td>Duoc roi dang nao cung phai qua ben do nop don...</td>\n",
       "    </tr>\n",
       "    <tr>\n",
       "      <th>9</th>\n",
       "      <td>1</td>\n",
       "      <td>May dang o dau the</td>\n",
       "    </tr>\n",
       "    <tr>\n",
       "      <th>10</th>\n",
       "      <td>-1</td>\n",
       "      <td>Xin cam on va chuc mung ban cung 5585 ban khac...</td>\n",
       "    </tr>\n",
       "    <tr>\n",
       "      <th>11</th>\n",
       "      <td>1</td>\n",
       "      <td>chac ko dau. ong anh dua di thi em moi di duoc...</td>\n",
       "    </tr>\n",
       "    <tr>\n",
       "      <th>12</th>\n",
       "      <td>1</td>\n",
       "      <td>chinh a cung goi la ba gia roi con noi gi nua....</td>\n",
       "    </tr>\n",
       "    <tr>\n",
       "      <th>13</th>\n",
       "      <td>1</td>\n",
       "      <td>Cau goi dien cho thay chua. Hom nay len gap kh...</td>\n",
       "    </tr>\n",
       "    <tr>\n",
       "      <th>14</th>\n",
       "      <td>1</td>\n",
       "      <td>co 3 nguoi giong em. con vai nguoi nua duoi 3 ...</td>\n",
       "    </tr>\n",
       "    <tr>\n",
       "      <th>15</th>\n",
       "      <td>1</td>\n",
       "      <td>Chuc anh vui ve</td>\n",
       "    </tr>\n",
       "    <tr>\n",
       "      <th>16</th>\n",
       "      <td>-1</td>\n",
       "      <td>Thanh ly hang he hang cong so quan ao hang thu...</td>\n",
       "    </tr>\n",
       "    <tr>\n",
       "      <th>17</th>\n",
       "      <td>1</td>\n",
       "      <td>Chuc mung nam moi!</td>\n",
       "    </tr>\n",
       "    <tr>\n",
       "      <th>18</th>\n",
       "      <td>1</td>\n",
       "      <td>chuan bi $ hoc lai tiep</td>\n",
       "    </tr>\n",
       "    <tr>\n",
       "      <th>19</th>\n",
       "      <td>1</td>\n",
       "      <td>ko sao ca di ngu som di.</td>\n",
       "    </tr>\n",
       "    <tr>\n",
       "      <th>20</th>\n",
       "      <td>-1</td>\n",
       "      <td>Dang ky goi Tan Mao de tiet kiem 97% cuoc goi ...</td>\n",
       "    </tr>\n",
       "    <tr>\n",
       "      <th>21</th>\n",
       "      <td>-1</td>\n",
       "      <td>(QC) Soan tin DK gui 9224 de dang ki FunRing h...</td>\n",
       "    </tr>\n",
       "    <tr>\n",
       "      <th>22</th>\n",
       "      <td>-1</td>\n",
       "      <td>Tri An KH MOBIFONE Dau Nam tang LOC VANG cho T...</td>\n",
       "    </tr>\n",
       "    <tr>\n",
       "      <th>23</th>\n",
       "      <td>-1</td>\n",
       "      <td>QC Ban da nhan duoc LOI CHUC NAM MOI tu mot ng...</td>\n",
       "    </tr>\n",
       "    <tr>\n",
       "      <th>24</th>\n",
       "      <td>-1</td>\n",
       "      <td>Cay Online. Tai MIEN PHI, tang ngay 50k Tai Kh...</td>\n",
       "    </tr>\n",
       "    <tr>\n",
       "      <th>25</th>\n",
       "      <td>-1</td>\n",
       "      <td>Ban co so SERI 2281969 TRUNG VOI ngay thanh la...</td>\n",
       "    </tr>\n",
       "    <tr>\n",
       "      <th>26</th>\n",
       "      <td>1</td>\n",
       "      <td>Cam on cau nhieu nhe</td>\n",
       "    </tr>\n",
       "    <tr>\n",
       "      <th>27</th>\n",
       "      <td>-1</td>\n",
       "      <td>QC.Mot nguoi da goi truc tiep den tong dai yeu...</td>\n",
       "    </tr>\n",
       "    <tr>\n",
       "      <th>28</th>\n",
       "      <td>-1</td>\n",
       "      <td>Re nhat rong bay tu quy du loai, website chuye...</td>\n",
       "    </tr>\n",
       "    <tr>\n",
       "      <th>29</th>\n",
       "      <td>-1</td>\n",
       "      <td>Ban biet thu Phap co mat pho Tran Quoc Toan, s...</td>\n",
       "    </tr>\n",
       "    <tr>\n",
       "      <th>...</th>\n",
       "      <td>...</td>\n",
       "      <td>...</td>\n",
       "    </tr>\n",
       "    <tr>\n",
       "      <th>70</th>\n",
       "      <td>1</td>\n",
       "      <td>Anh xem ds co ai duoi 3 ko?</td>\n",
       "    </tr>\n",
       "    <tr>\n",
       "      <th>71</th>\n",
       "      <td>-1</td>\n",
       "      <td>Son chat luong cao, giao hang tan noi, gia ca ...</td>\n",
       "    </tr>\n",
       "    <tr>\n",
       "      <th>72</th>\n",
       "      <td>-1</td>\n",
       "      <td>Real Madrid - Barcelona Hay soan tin: BD RMA g...</td>\n",
       "    </tr>\n",
       "    <tr>\n",
       "      <th>73</th>\n",
       "      <td>1</td>\n",
       "      <td>Chuc cau nam moi vui ve gap nhieu dieu may man...</td>\n",
       "    </tr>\n",
       "    <tr>\n",
       "      <th>74</th>\n",
       "      <td>-1</td>\n",
       "      <td>Ban da dang ki tu choi nhan tin QC! Tin nhan q...</td>\n",
       "    </tr>\n",
       "    <tr>\n",
       "      <th>75</th>\n",
       "      <td>-1</td>\n",
       "      <td>Gia soc: nhan dip 30/4 1/5 giam gia cuc soc ch...</td>\n",
       "    </tr>\n",
       "    <tr>\n",
       "      <th>76</th>\n",
       "      <td>-1</td>\n",
       "      <td>Chung cu ban gia goc 16,2 trieu dong/m2, thanh...</td>\n",
       "    </tr>\n",
       "    <tr>\n",
       "      <th>77</th>\n",
       "      <td>1</td>\n",
       "      <td>Cuoc song ngay cang kho khan</td>\n",
       "    </tr>\n",
       "    <tr>\n",
       "      <th>78</th>\n",
       "      <td>1</td>\n",
       "      <td>:)) anh dua thoi. Da mang 1 dong quan ao lai x...</td>\n",
       "    </tr>\n",
       "    <tr>\n",
       "      <th>79</th>\n",
       "      <td>1</td>\n",
       "      <td>the ko con dua nao doc than giong anh ah.</td>\n",
       "    </tr>\n",
       "    <tr>\n",
       "      <th>80</th>\n",
       "      <td>-1</td>\n",
       "      <td>Can ho doidien cho Pham Van Hai, Tan Binh chi ...</td>\n",
       "    </tr>\n",
       "    <tr>\n",
       "      <th>81</th>\n",
       "      <td>-1</td>\n",
       "      <td>Tu viettel tang 50% gia tri the nap cho thue b...</td>\n",
       "    </tr>\n",
       "    <tr>\n",
       "      <th>82</th>\n",
       "      <td>-1</td>\n",
       "      <td>Du an Dolphin Plaza, 28 Tran Binh, Cau giay , ...</td>\n",
       "    </tr>\n",
       "    <tr>\n",
       "      <th>83</th>\n",
       "      <td>-1</td>\n",
       "      <td>WapPush: Sexy&gt;&gt;Emgai thoi ken nhin rat PHE(13p...</td>\n",
       "    </tr>\n",
       "    <tr>\n",
       "      <th>84</th>\n",
       "      <td>-1</td>\n",
       "      <td>TV 6723 Ban Muon Biet TU VI trong nam 2012 TIE...</td>\n",
       "    </tr>\n",
       "    <tr>\n",
       "      <th>85</th>\n",
       "      <td>1</td>\n",
       "      <td>Mai di tap the duc thi goi to nhe</td>\n",
       "    </tr>\n",
       "    <tr>\n",
       "      <th>86</th>\n",
       "      <td>-1</td>\n",
       "      <td>BAN LA NGUOI MAY MAN HaLinh Tang ban 5 Lan Dau...</td>\n",
       "    </tr>\n",
       "    <tr>\n",
       "      <th>87</th>\n",
       "      <td>1</td>\n",
       "      <td>Quen mat chua rua da mang cho a. E vua di ve.</td>\n",
       "    </tr>\n",
       "    <tr>\n",
       "      <th>88</th>\n",
       "      <td>-1</td>\n",
       "      <td>Ban Laptop cu, laptop core i5, laptop core i3,...</td>\n",
       "    </tr>\n",
       "    <tr>\n",
       "      <th>89</th>\n",
       "      <td>1</td>\n",
       "      <td>the ngay duong la luc nao. hoa ra a sinh sau e...</td>\n",
       "    </tr>\n",
       "    <tr>\n",
       "      <th>90</th>\n",
       "      <td>-1</td>\n",
       "      <td>Cung cap gian gia gia ke shop thoi trang gia g...</td>\n",
       "    </tr>\n",
       "    <tr>\n",
       "      <th>91</th>\n",
       "      <td>1</td>\n",
       "      <td>The co bao luu cung anh ko. Trong tg bao luu v...</td>\n",
       "    </tr>\n",
       "    <tr>\n",
       "      <th>92</th>\n",
       "      <td>1</td>\n",
       "      <td>Hom nay di hoc co vui khong ?</td>\n",
       "    </tr>\n",
       "    <tr>\n",
       "      <th>93</th>\n",
       "      <td>1</td>\n",
       "      <td>Thoi duoc roi. Ma anh di lam thi chang onl dau...</td>\n",
       "    </tr>\n",
       "    <tr>\n",
       "      <th>94</th>\n",
       "      <td>1</td>\n",
       "      <td>:( biet the nho em mang cho 2 it ve giat h lai...</td>\n",
       "    </tr>\n",
       "    <tr>\n",
       "      <th>95</th>\n",
       "      <td>-1</td>\n",
       "      <td>Ban da dang ki tu choi nhan tin QC! Tin nhan q...</td>\n",
       "    </tr>\n",
       "    <tr>\n",
       "      <th>96</th>\n",
       "      <td>1</td>\n",
       "      <td>U ch? qua d?y l?y t?m 6h k? 10</td>\n",
       "    </tr>\n",
       "    <tr>\n",
       "      <th>97</th>\n",
       "      <td>-1</td>\n",
       "      <td>Cty Dinh Thai - Chuyen sx cac loai dien tro do...</td>\n",
       "    </tr>\n",
       "    <tr>\n",
       "      <th>98</th>\n",
       "      <td>-1</td>\n",
       "      <td>TV 6723 Ban Muon Biet TU VI trong nam 2012 TIE...</td>\n",
       "    </tr>\n",
       "    <tr>\n",
       "      <th>99</th>\n",
       "      <td>1</td>\n",
       "      <td>C cung biet so co a</td>\n",
       "    </tr>\n",
       "  </tbody>\n",
       "</table>\n",
       "<p>100 rows × 2 columns</p>\n",
       "</div>"
      ],
      "text/plain": [
       "   label                                            message\n",
       "0     -1  Ghe goi dau loai 1 chinh hang giam gia con han...\n",
       "1      1  Anh thay em tuoi tho du doi a phet day. Viet v...\n",
       "2     -1  Chuc mung 093 xxx nhan duoc bai hat Vip \"Luc m...\n",
       "3      1  Troi dep thi bao troi dep, u ko dien den muc i...\n",
       "4      1                             Ranh tao nho chut viec\n",
       "5     -1  Nhan dip ra mat tang Quy khach SBC se du doan ...\n",
       "6     -1  Ban duoc tang Tuyen tap 500 GAME ONLINE chon l...\n",
       "7      1        ko phai ninh dam. tu nhien nghi ra de nt ah\n",
       "8      1  Duoc roi dang nao cung phai qua ben do nop don...\n",
       "9      1                                 May dang o dau the\n",
       "10    -1  Xin cam on va chuc mung ban cung 5585 ban khac...\n",
       "11     1  chac ko dau. ong anh dua di thi em moi di duoc...\n",
       "12     1  chinh a cung goi la ba gia roi con noi gi nua....\n",
       "13     1  Cau goi dien cho thay chua. Hom nay len gap kh...\n",
       "14     1  co 3 nguoi giong em. con vai nguoi nua duoi 3 ...\n",
       "15     1                                    Chuc anh vui ve\n",
       "16    -1  Thanh ly hang he hang cong so quan ao hang thu...\n",
       "17     1                                 Chuc mung nam moi!\n",
       "18     1                            chuan bi $ hoc lai tiep\n",
       "19     1                           ko sao ca di ngu som di.\n",
       "20    -1  Dang ky goi Tan Mao de tiet kiem 97% cuoc goi ...\n",
       "21    -1  (QC) Soan tin DK gui 9224 de dang ki FunRing h...\n",
       "22    -1  Tri An KH MOBIFONE Dau Nam tang LOC VANG cho T...\n",
       "23    -1  QC Ban da nhan duoc LOI CHUC NAM MOI tu mot ng...\n",
       "24    -1  Cay Online. Tai MIEN PHI, tang ngay 50k Tai Kh...\n",
       "25    -1  Ban co so SERI 2281969 TRUNG VOI ngay thanh la...\n",
       "26     1                               Cam on cau nhieu nhe\n",
       "27    -1  QC.Mot nguoi da goi truc tiep den tong dai yeu...\n",
       "28    -1  Re nhat rong bay tu quy du loai, website chuye...\n",
       "29    -1  Ban biet thu Phap co mat pho Tran Quoc Toan, s...\n",
       "..   ...                                                ...\n",
       "70     1                        Anh xem ds co ai duoi 3 ko?\n",
       "71    -1  Son chat luong cao, giao hang tan noi, gia ca ...\n",
       "72    -1  Real Madrid - Barcelona Hay soan tin: BD RMA g...\n",
       "73     1  Chuc cau nam moi vui ve gap nhieu dieu may man...\n",
       "74    -1  Ban da dang ki tu choi nhan tin QC! Tin nhan q...\n",
       "75    -1  Gia soc: nhan dip 30/4 1/5 giam gia cuc soc ch...\n",
       "76    -1  Chung cu ban gia goc 16,2 trieu dong/m2, thanh...\n",
       "77     1                       Cuoc song ngay cang kho khan\n",
       "78     1  :)) anh dua thoi. Da mang 1 dong quan ao lai x...\n",
       "79     1          the ko con dua nao doc than giong anh ah.\n",
       "80    -1  Can ho doidien cho Pham Van Hai, Tan Binh chi ...\n",
       "81    -1  Tu viettel tang 50% gia tri the nap cho thue b...\n",
       "82    -1  Du an Dolphin Plaza, 28 Tran Binh, Cau giay , ...\n",
       "83    -1  WapPush: Sexy>>Emgai thoi ken nhin rat PHE(13p...\n",
       "84    -1  TV 6723 Ban Muon Biet TU VI trong nam 2012 TIE...\n",
       "85     1                  Mai di tap the duc thi goi to nhe\n",
       "86    -1  BAN LA NGUOI MAY MAN HaLinh Tang ban 5 Lan Dau...\n",
       "87     1      Quen mat chua rua da mang cho a. E vua di ve.\n",
       "88    -1  Ban Laptop cu, laptop core i5, laptop core i3,...\n",
       "89     1  the ngay duong la luc nao. hoa ra a sinh sau e...\n",
       "90    -1  Cung cap gian gia gia ke shop thoi trang gia g...\n",
       "91     1  The co bao luu cung anh ko. Trong tg bao luu v...\n",
       "92     1                      Hom nay di hoc co vui khong ?\n",
       "93     1  Thoi duoc roi. Ma anh di lam thi chang onl dau...\n",
       "94     1  :( biet the nho em mang cho 2 it ve giat h lai...\n",
       "95    -1  Ban da dang ki tu choi nhan tin QC! Tin nhan q...\n",
       "96     1                     U ch? qua d?y l?y t?m 6h k? 10\n",
       "97    -1  Cty Dinh Thai - Chuyen sx cac loai dien tro do...\n",
       "98    -1  TV 6723 Ban Muon Biet TU VI trong nam 2012 TIE...\n",
       "99     1                                C cung biet so co a\n",
       "\n",
       "[100 rows x 2 columns]"
      ]
     },
     "execution_count": 39,
     "metadata": {},
     "output_type": "execute_result"
    }
   ],
   "source": [
    "message_Frame"
   ]
  },
  {
   "cell_type": "code",
   "execution_count": 40,
   "metadata": {
    "collapsed": false
   },
   "outputs": [
    {
     "data": {
      "text/html": [
       "<div>\n",
       "<table border=\"1\" class=\"dataframe\">\n",
       "  <thead>\n",
       "    <tr style=\"text-align: right;\">\n",
       "      <th></th>\n",
       "      <th>label</th>\n",
       "      <th>message</th>\n",
       "    </tr>\n",
       "  </thead>\n",
       "  <tbody>\n",
       "    <tr>\n",
       "      <th>count</th>\n",
       "      <td>100</td>\n",
       "      <td>100</td>\n",
       "    </tr>\n",
       "    <tr>\n",
       "      <th>unique</th>\n",
       "      <td>2</td>\n",
       "      <td>99</td>\n",
       "    </tr>\n",
       "    <tr>\n",
       "      <th>top</th>\n",
       "      <td>-1</td>\n",
       "      <td>Troi ret nam trong chan am vai. Dech muon di h...</td>\n",
       "    </tr>\n",
       "    <tr>\n",
       "      <th>freq</th>\n",
       "      <td>51</td>\n",
       "      <td>2</td>\n",
       "    </tr>\n",
       "  </tbody>\n",
       "</table>\n",
       "</div>"
      ],
      "text/plain": [
       "       label                                            message\n",
       "count    100                                                100\n",
       "unique     2                                                 99\n",
       "top       -1  Troi ret nam trong chan am vai. Dech muon di h...\n",
       "freq      51                                                  2"
      ]
     },
     "execution_count": 40,
     "metadata": {},
     "output_type": "execute_result"
    }
   ],
   "source": [
    "message_Frame.describe()"
   ]
  },
  {
   "cell_type": "code",
   "execution_count": 41,
   "metadata": {
    "collapsed": false
   },
   "outputs": [
    {
     "data": {
      "text/html": [
       "<div>\n",
       "<table border=\"1\" class=\"dataframe\">\n",
       "  <thead>\n",
       "    <tr style=\"text-align: right;\">\n",
       "      <th></th>\n",
       "      <th></th>\n",
       "      <th>message</th>\n",
       "    </tr>\n",
       "    <tr>\n",
       "      <th>label</th>\n",
       "      <th></th>\n",
       "      <th></th>\n",
       "    </tr>\n",
       "  </thead>\n",
       "  <tbody>\n",
       "    <tr>\n",
       "      <th rowspan=\"4\" valign=\"top\">-1</th>\n",
       "      <th>count</th>\n",
       "      <td>51</td>\n",
       "    </tr>\n",
       "    <tr>\n",
       "      <th>unique</th>\n",
       "      <td>51</td>\n",
       "    </tr>\n",
       "    <tr>\n",
       "      <th>top</th>\n",
       "      <td>Cty chuyen cung cap binh ngam ruou sam han quo...</td>\n",
       "    </tr>\n",
       "    <tr>\n",
       "      <th>freq</th>\n",
       "      <td>1</td>\n",
       "    </tr>\n",
       "    <tr>\n",
       "      <th rowspan=\"4\" valign=\"top\">1</th>\n",
       "      <th>count</th>\n",
       "      <td>49</td>\n",
       "    </tr>\n",
       "    <tr>\n",
       "      <th>unique</th>\n",
       "      <td>48</td>\n",
       "    </tr>\n",
       "    <tr>\n",
       "      <th>top</th>\n",
       "      <td>Troi ret nam trong chan am vai. Dech muon di h...</td>\n",
       "    </tr>\n",
       "    <tr>\n",
       "      <th>freq</th>\n",
       "      <td>2</td>\n",
       "    </tr>\n",
       "  </tbody>\n",
       "</table>\n",
       "</div>"
      ],
      "text/plain": [
       "                                                        message\n",
       "label                                                          \n",
       "-1    count                                                  51\n",
       "      unique                                                 51\n",
       "      top     Cty chuyen cung cap binh ngam ruou sam han quo...\n",
       "      freq                                                    1\n",
       "1     count                                                  49\n",
       "      unique                                                 48\n",
       "      top     Troi ret nam trong chan am vai. Dech muon di h...\n",
       "      freq                                                    2"
      ]
     },
     "execution_count": 41,
     "metadata": {},
     "output_type": "execute_result"
    }
   ],
   "source": [
    "message_Frame.groupby('label').describe()"
   ]
  },
  {
   "cell_type": "code",
   "execution_count": 42,
   "metadata": {
    "collapsed": false
   },
   "outputs": [
    {
     "data": {
      "text/html": [
       "<div>\n",
       "<table border=\"1\" class=\"dataframe\">\n",
       "  <thead>\n",
       "    <tr style=\"text-align: right;\">\n",
       "      <th></th>\n",
       "      <th>label</th>\n",
       "      <th>message</th>\n",
       "      <th>length</th>\n",
       "    </tr>\n",
       "  </thead>\n",
       "  <tbody>\n",
       "    <tr>\n",
       "      <th>0</th>\n",
       "      <td>-1</td>\n",
       "      <td>Ghe goi dau loai 1 chinh hang giam gia con han...</td>\n",
       "      <td>115</td>\n",
       "    </tr>\n",
       "    <tr>\n",
       "      <th>1</th>\n",
       "      <td>1</td>\n",
       "      <td>Anh thay em tuoi tho du doi a phet day. Viet v...</td>\n",
       "      <td>99</td>\n",
       "    </tr>\n",
       "    <tr>\n",
       "      <th>2</th>\n",
       "      <td>-1</td>\n",
       "      <td>Chuc mung 093 xxx nhan duoc bai hat Vip \"Luc m...</td>\n",
       "      <td>141</td>\n",
       "    </tr>\n",
       "    <tr>\n",
       "      <th>3</th>\n",
       "      <td>1</td>\n",
       "      <td>Troi dep thi bao troi dep, u ko dien den muc i...</td>\n",
       "      <td>101</td>\n",
       "    </tr>\n",
       "    <tr>\n",
       "      <th>4</th>\n",
       "      <td>1</td>\n",
       "      <td>Ranh tao nho chut viec</td>\n",
       "      <td>22</td>\n",
       "    </tr>\n",
       "  </tbody>\n",
       "</table>\n",
       "</div>"
      ],
      "text/plain": [
       "  label                                            message  length\n",
       "0    -1  Ghe goi dau loai 1 chinh hang giam gia con han...     115\n",
       "1     1  Anh thay em tuoi tho du doi a phet day. Viet v...      99\n",
       "2    -1  Chuc mung 093 xxx nhan duoc bai hat Vip \"Luc m...     141\n",
       "3     1  Troi dep thi bao troi dep, u ko dien den muc i...     101\n",
       "4     1                             Ranh tao nho chut viec      22"
      ]
     },
     "execution_count": 42,
     "metadata": {},
     "output_type": "execute_result"
    }
   ],
   "source": [
    "message_Frame['length'] = message_Frame['message'].apply(len)\n",
    "message_Frame.head()"
   ]
  },
  {
   "cell_type": "code",
   "execution_count": 43,
   "metadata": {
    "collapsed": false
   },
   "outputs": [
    {
     "data": {
      "text/html": [
       "<div>\n",
       "<table border=\"1\" class=\"dataframe\">\n",
       "  <thead>\n",
       "    <tr style=\"text-align: right;\">\n",
       "      <th></th>\n",
       "      <th>length</th>\n",
       "    </tr>\n",
       "  </thead>\n",
       "  <tbody>\n",
       "    <tr>\n",
       "      <th>count</th>\n",
       "      <td>100.000000</td>\n",
       "    </tr>\n",
       "    <tr>\n",
       "      <th>mean</th>\n",
       "      <td>88.180000</td>\n",
       "    </tr>\n",
       "    <tr>\n",
       "      <th>std</th>\n",
       "      <td>48.022802</td>\n",
       "    </tr>\n",
       "    <tr>\n",
       "      <th>min</th>\n",
       "      <td>15.000000</td>\n",
       "    </tr>\n",
       "    <tr>\n",
       "      <th>25%</th>\n",
       "      <td>55.000000</td>\n",
       "    </tr>\n",
       "    <tr>\n",
       "      <th>50%</th>\n",
       "      <td>82.500000</td>\n",
       "    </tr>\n",
       "    <tr>\n",
       "      <th>75%</th>\n",
       "      <td>115.000000</td>\n",
       "    </tr>\n",
       "    <tr>\n",
       "      <th>max</th>\n",
       "      <td>270.000000</td>\n",
       "    </tr>\n",
       "  </tbody>\n",
       "</table>\n",
       "</div>"
      ],
      "text/plain": [
       "           length\n",
       "count  100.000000\n",
       "mean    88.180000\n",
       "std     48.022802\n",
       "min     15.000000\n",
       "25%     55.000000\n",
       "50%     82.500000\n",
       "75%    115.000000\n",
       "max    270.000000"
      ]
     },
     "execution_count": 43,
     "metadata": {},
     "output_type": "execute_result"
    }
   ],
   "source": [
    "message_Frame.describe()"
   ]
  },
  {
   "cell_type": "code",
   "execution_count": 44,
   "metadata": {
    "collapsed": false
   },
   "outputs": [
    {
     "data": {
      "text/plain": [
       "array([<matplotlib.axes._subplots.AxesSubplot object at 0x7fa01a43d390>,\n",
       "       <matplotlib.axes._subplots.AxesSubplot object at 0x7fa01a3b86d0>], dtype=object)"
      ]
     },
     "execution_count": 44,
     "metadata": {},
     "output_type": "execute_result"
    },
    {
     "data": {
      "image/png": "[encoded data removed]",
      "text/plain": [
       "<matplotlib.figure.Figure at 0x7fa01a49b650>"
      ]
     },
     "metadata": {},
     "output_type": "display_data"
    }
   ],
   "source": [
    "%matplotlib inline\n",
    "\n",
    "# ve do thi histogram ve \n",
    "message_Frame.hist(by='label', column='length', bins=30, figsize=[15, 5])"
   ]
  },
  {
   "cell_type": "code",
   "execution_count": 45,
   "metadata": {
    "collapsed": true
   },
   "outputs": [],
   "source": [
    "x = message_Frame.message\n",
    "y = message_Frame.label\n"
   ]
  },
  {
   "cell_type": "code",
   "execution_count": 46,
   "metadata": {
    "collapsed": false
   },
   "outputs": [],
   "source": [
    "from sklearn.model_selection import train_test_split\n",
    "\n",
    "# chia tap ngu lieu ra lam 2 phan ti le \n",
    "x_train, x_test, y_train, y_test = train_test_split(x, y, test_size = 0.25, random_state=11)"
   ]
  },
  {
   "cell_type": "code",
   "execution_count": 47,
   "metadata": {
    "collapsed": false
   },
   "outputs": [
    {
     "data": {
      "text/plain": [
       "(75,)"
      ]
     },
     "execution_count": 47,
     "metadata": {},
     "output_type": "execute_result"
    }
   ],
   "source": [
    "x_train.shape"
   ]
  },
  {
   "cell_type": "code",
   "execution_count": 48,
   "metadata": {
    "collapsed": false
   },
   "outputs": [
    {
     "data": {
      "text/plain": [
       "(25,)"
      ]
     },
     "execution_count": 48,
     "metadata": {},
     "output_type": "execute_result"
    }
   ],
   "source": [
    "x_test.shape"
   ]
  },
  {
   "cell_type": "code",
   "execution_count": 49,
   "metadata": {
    "collapsed": false
   },
   "outputs": [],
   "source": [
    "vect = CountVectorizer()\n",
    "# chuyen doi den vecto\n",
    "X_train = vect.fit_transform(x_train)\n",
    "# chuyen doi vecto\n",
    "X_test = vect.transform(x_test)"
   ]
  },
  {
   "cell_type": "code",
   "execution_count": 50,
   "metadata": {
    "collapsed": false
   },
   "outputs": [],
   "source": [
    "# phan loai theo cac phuong phap\n",
    "svc = SVC(kernel = 'linear')\n",
    "mnb = MultinomialNB(alpha =0.2)\n",
    "gnb  = GaussianNB()\n",
    "lr = LogisticRegression(solver='liblinear', penalty='l1')\n",
    "rfc = RandomForestClassifier(n_estimators=100,random_state=11)\n",
    "abc = AdaBoostClassifier(n_estimators =100,random_state=11)"
   ]
  },
  {
   "cell_type": "code",
   "execution_count": 51,
   "metadata": {
    "collapsed": true
   },
   "outputs": [],
   "source": [
    "def training(clf,x_train,Y_train):\n",
    "    clf.fit(x_train,Y_train)\n",
    "    \n",
    "def predict(clf,X_test):\n",
    "    return clf.predict(X_test)"
   ]
  },
  {
   "cell_type": "code",
   "execution_count": 52,
   "metadata": {
    "collapsed": true
   },
   "outputs": [],
   "source": [
    "# dinh nghia ten phan loai\n",
    "classifier={'SVM': svc , 'MultinomialNB': mnb,'GaussianNB': gnb,'logistic': lr,'RandomForest': rfc,'Adaboost': abc}"
   ]
  },
  {
   "cell_type": "code",
   "execution_count": 53,
   "metadata": {
    "collapsed": false
   },
   "outputs": [],
   "source": [
    "# du doan va tinh do chinh xac\n",
    "score = []\n",
    "for n,c in classifier.items():\n",
    "    training(c,X_train.toarray(),y_train)\n",
    "    pred = predict(c,X_test.toarray())\n",
    "    score.append((n,[accuracy_score(y_test,pred,normalize=True)]))\n"
   ]
  },
  {
   "cell_type": "code",
   "execution_count": 54,
   "metadata": {
    "collapsed": false
   },
   "outputs": [
    {
     "data": {
      "text/html": [
       "<div>\n",
       "<table border=\"1\" class=\"dataframe\">\n",
       "  <thead>\n",
       "    <tr style=\"text-align: right;\">\n",
       "      <th></th>\n",
       "      <th>scores</th>\n",
       "      <th>Accuracy (%)</th>\n",
       "    </tr>\n",
       "  </thead>\n",
       "  <tbody>\n",
       "    <tr>\n",
       "      <th>SVM</th>\n",
       "      <td>0.88</td>\n",
       "      <td>88.0</td>\n",
       "    </tr>\n",
       "    <tr>\n",
       "      <th>RandomForest</th>\n",
       "      <td>0.80</td>\n",
       "      <td>80.0</td>\n",
       "    </tr>\n",
       "    <tr>\n",
       "      <th>GaussianNB</th>\n",
       "      <td>0.84</td>\n",
       "      <td>84.0</td>\n",
       "    </tr>\n",
       "    <tr>\n",
       "      <th>Adaboost</th>\n",
       "      <td>0.88</td>\n",
       "      <td>88.0</td>\n",
       "    </tr>\n",
       "    <tr>\n",
       "      <th>logistic</th>\n",
       "      <td>0.88</td>\n",
       "      <td>88.0</td>\n",
       "    </tr>\n",
       "    <tr>\n",
       "      <th>MultinomialNB</th>\n",
       "      <td>0.92</td>\n",
       "      <td>92.0</td>\n",
       "    </tr>\n",
       "  </tbody>\n",
       "</table>\n",
       "</div>"
      ],
      "text/plain": [
       "               scores  Accuracy (%)\n",
       "SVM              0.88          88.0\n",
       "RandomForest     0.80          80.0\n",
       "GaussianNB       0.84          84.0\n",
       "Adaboost         0.88          88.0\n",
       "logistic         0.88          88.0\n",
       "MultinomialNB    0.92          92.0"
      ]
     },
     "execution_count": 54,
     "metadata": {},
     "output_type": "execute_result"
    }
   ],
   "source": [
    "score_df=pd.DataFrame.from_items(score,orient='index',columns=['scores'])\n",
    "# them cot accuracy\n",
    "score_df['Accuracy (%)']=score_df['scores']*100\n",
    "score_df"
   ]
  }
 ],
 "metadata": {
  "kernelspec": {
   "display_name": "Python 2",
   "language": "python",
   "name": "python2"
  },
  "language_info": {
   "codemirror_mode": {
    "name": "ipython",
    "version": 2
   },
   "file_extension": ".py",
   "mimetype": "text/x-python",
   "name": "python",
   "nbconvert_exporter": "python",
   "pygments_lexer": "ipython2",
   "version": "2.7.12"
  }
 },
 "nbformat": 4,
 "nbformat_minor": 2
}
