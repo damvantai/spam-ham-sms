{
 "cells": [
  {
   "cell_type": "code",
   "execution_count": 1,
   "metadata": {
    "scrolled": false
   },
   "outputs": [],
   "source": [
    "import numpy as np\n",
    "from sklearn.feature_extraction.text import CountVectorizer\n",
    "from sklearn.naive_bayes import MultinomialNB, GaussianNB\n",
    "from sklearn.svm import SVC\n",
    "from sklearn.linear_model import LogisticRegression\n",
    "from sklearn.ensemble import RandomForestClassifier, AdaBoostClassifier\n",
    "from sklearn.metrics import accuracy_score\n",
    "import matplotlib.pyplot as plt\n",
    "import seaborn as sns\n",
    "import tensorflow as tf\n",
    "import pandas as pd\n",
    "from sklearn.feature_extraction.text import TfidfVectorizer, TfidfTransformer"
   ]
  },
  {
   "cell_type": "code",
   "execution_count": 2,
   "metadata": {},
   "outputs": [],
   "source": [
    "label = []\n",
    "message = []\n",
    "with open('train.txt', 'r') as f:\n",
    "    for numLine,line in enumerate(f):\n",
    "        line = line.replace('\\n', '')\n",
    "#         line = line.replace('.', '')\n",
    "        splitLine = line.split(' ')\n",
    "        label.append(splitLine[0])\n",
    "        splitLine.__delitem__(0)\n",
    "        \n",
    "        message.append(' '.join(splitLine))\n",
    "#         print(splitLine)\n",
    "\n",
    "f.close()\n",
    "# type(splitLine)"
   ]
  },
  {
   "cell_type": "code",
   "execution_count": 3,
   "metadata": {},
   "outputs": [
    {
     "data": {
      "text/plain": [
       "['Ghe goi dau loai 1 chinh hang giam gia con hang cong ty chinh hang giam gia con thoi gian khuyen mai het ngay luu y\\n',\n",
       " 'Anh thay em tuoi tho du doi a phet day. Viet ve sau phong van ho hoi day. Se co cam giac than thien\\n',\n",
       " 'Chuc mung 093 xxx nhan duoc bai hat Vip \"Luc moi yeu\" tu mot nguoi ban ten H tang. De nghe bai hat va loi nhan duoc ghi am soan: VIP gui 7799\\n',\n",
       " 'Troi dep thi bao troi dep, u ko dien den muc i dau. Co 1 it nc mat roi. Hoho minh chua bi lanh cam :v\\n',\n",
       " 'Ranh tao nho chut viec\\n',\n",
       " 'Nhan dip ra mat tang Quy khach SBC se du doan trung ...\\n',\n",
       " 'Ban duoc tang Tuyen tap 500 GAME ONLINE chon loc cuc hay\\n',\n",
       " 'ko phai ninh dam. tu nhien nghi ra de nt ah\\n',\n",
       " 'Duoc roi dang nao cung phai qua ben do nop don. Haizzzzz sao ma bao luu cung thay tiec qua.suy nghi may hnay roi\\n',\n",
       " 'May dang o dau the\\n',\n",
       " 'Xin cam on va chuc mung ban cung 5585 ban khac voi cap 33-88 cua VD hom qua Hom nay VD mua tiep 1 cap cam ket an ca 2, co the an DB\\n',\n",
       " 'chac ko dau. ong anh dua di thi em moi di duoc. em chua vao duong hoa\\n',\n",
       " 'chinh a cung goi la ba gia roi con noi gi nua. roi the thi ngoi ngoai duong thoi.\\n',\n",
       " 'Cau goi dien cho thay chua. Hom nay len gap khong tren lab chi co thay thoi\\n',\n",
       " 'co 3 nguoi giong em. con vai nguoi nua duoi 3 nhung a ko ve nha dau dang ngoi o ho tien\\n',\n",
       " 'Chuc anh vui ve\\n',\n",
       " 'Thanh ly hang he hang cong so quan ao hang thu gia cuc re quy khach vui long toi dia chi\\n',\n",
       " 'Chuc mung nam moi!\\n',\n",
       " 'chuan bi $ hoc lai tiep\\n',\n",
       " 'ko sao ca di ngu som di.\\n',\n",
       " 'Dang ky goi Tan Mao de tiet kiem 97% cuoc goi noi mang, soan Y1 gui den 999 de dang ki goi 30phut/ngay voi 2.500d, soan Y2 voi 5.000d goi 90phut/ngay\\n',\n",
       " '(QC) Soan tin DK gui 9224 de dang ki FunRing hoac CHON MANHACCHO gui 9224 de tai nhac cho va gianh co hoi trung 3 xe Yamaha Cuxi, 8 Nokia E72 tu Mobifone. Top nhac Hot thang 4: Vi sao:5429467, Ton tho mot tinh yeu: 51210445, Tinh yeu hoa gio: 572119. Tu choi QC soan tin\\n',\n",
       " 'Tri An KH MOBIFONE Dau Nam tang LOC VANG cho TB 090... Lay Ket Qua Xo So, CAU BACH THU, XIU CHU Cam Ket Trung 100%\\n',\n",
       " 'QC Ban da nhan duoc LOI CHUC NAM MOI tu mot nguoi ban ( yeu cau giau ten ) Loi chuc kem theo qua tang goi DV\\n',\n",
       " 'Cay Online. Tai MIEN PHI, tang ngay 50k Tai Khoan Game http://\\n',\n",
       " 'Ban co so SERI 2281969 TRUNG VOI ngay thanh lap CTy XSMB Chung Toi da co 1Kep ve 2nhay gui tang ban: Nhan So: Soan LK gui 8709\\n',\n",
       " 'Cam on cau nhieu nhe\\n',\n",
       " 'QC.Mot nguoi da goi truc tiep den tong dai yeu cau gui tang ban BAI HAT & ghi am LOI NHAN thoai gui den Ban.De nhan BAI HAT & nghe LOI NHAN soan: DK gui 7775\\n',\n",
       " 'Re nhat rong bay tu quy du loai, website chuyen sim so dep viettel cac loai uy tin bao hanh tron doi. LH hanh phuc duoc phuc vu quy anh chi.\\n',\n",
       " 'Ban biet thu Phap co mat pho Tran Quoc Toan, so do chinh chu ten tu nhan, dien tich 241 m2, mat tien  m, hau rong m, gia ca thoa thuan. Lien he bac Khanh\\n',\n",
       " 'Lang le rut lui ah? U van muon nghe 1 loi giai thich :(\\n',\n",
       " 'Uh anh dang o tren phong dao tao day. Nhung ho chua lam viec lat anh hoi cho\\n',\n",
       " 'Mo ban du an Golden Land - 275 Nguyen Trai - gia goc chu dau tu - LH: dia chi\\n',\n",
       " 'Troi ret nam trong chan am vai. Dech muon di hoc. Nghi de.\\n',\n",
       " 'Chuc ngu ngon nhe\\n',\n",
       " 'Voi hoi ho cho em? Da ap dung luat duoi 3 voi vb2 chua?\\n',\n",
       " 'Ret qua. Em doi di choi thanh cong chua?\\n',\n",
       " 'Nay, cau di ngu ngay di\\n',\n",
       " 'KM dac biet mung nam moi. Dem loxo, dem bong ep, chan ga goi, chan loxo...\\n',\n",
       " 'Biet ma. U doc 1 doan 2 thang nc vs nhau: \"m ma thit dc em i thi tha ho, luc i cu\\' tha ra no van phai ba\\'m m\" mia no! Ke ca la ck thi u van bo chu ko phai ngy.\\n',\n",
       " 'Ban can ho chung cu mini Xuan Dinh, vao o ngay, can ho hoan thien, noi that cao cap LH \\n',\n",
       " 'Top nhac Hot thang 4: Vi sao:5429467, Ton tho mot tinh yeu: 51210445, Tinh yeu hoa gio: 572119. Tu choi QC soan tin\\n',\n",
       " 'Troi ret nam trong chan am vai. Dech muon di hoc. Nghi de.\\n',\n",
       " 'Cty chuyen cung cap binh ngam ruou sam han quoc cuc dep gia cuc re tai TP HCM. lien he dia chi\\n',\n",
       " 'nam xem tao quan. lat nua thu doi di choi xem co dc ko\\n',\n",
       " 'Bep hong ngoai Panasonic moi 100%  chi 289K va tang kem 1 vi nuong. Bao hanh 12 thang. LH dia chi\\n',\n",
       " 'QC VMS2 Ma du thuong cT \"Alo ngay tien day tay\" : Tu 000... den 000... Tu choi nhan Ma du thuong, soan TC1 gui 9241\\n',\n",
       " 'VUI XUAN: Gai 1Con lam xxx cuc PHE Tai ve xem ngay. Mien Phi: http://\\n',\n",
       " 'Cau luu them so cua Trung vao Cau dep trai deo kinh nhom truong ngai hen thay thi cu goi cho cau nay truoc\\n',\n",
       " \"Duoi 5 nguoi thi ko mo lop. H con cach la hoc lai cung k truoc thoi. Cam thay qua suc thi bao luu anh thay cung kho nang ne lam.co len beo':-) \\n\",\n",
       " 'Hom nay VD mua tiep 1 cap cam ket an ca 2, co the an DB\\n',\n",
       " 'Hien nay co cap LO TO chac an trong ngay. De lay soan VNT gui 7393 gia 3000 dong\\n',\n",
       " 'Con oi, u co nen gap lao i noi ro rang het moi chuyen ko?\\n',\n",
       " 'Lau Nuong UPA-UPA (Phong cach KOREA) Tai 2 PHAM NGOC THACH (CAU TRUNG TU) HA NOI.Chi Con 127Nghin Nguoi Buffee An thoai mai Khuyen Mai Tu 01-09 12-2012\\n',\n",
       " 'The a, bao gio the ha cau\\n',\n",
       " '(ClipXXX)6 Clip 18+ em MyPhuong voi Sep(nghe PHE vai) http://\\n',\n",
       " 'Neu lao i muon gthich lao i phai hen u chu nhi?\\n',\n",
       " 'Anh oi, em moi ban nham tien qua may anh, anh gui lai giup em duoc khong a! Em sinh vien chang co nhieu tien, anh giup em thi tot qua.\\n',\n",
       " 'Co ban gai dang yeu ten H xxx gui tang TB 0913 xxx mot nhac pham voi loi nhan  Hy vong nhan ra em qua bai hat nay\\n',\n",
       " 'Chuyen cung cap thep V lo da nang gia si va le LH dia chi Viet Cuong Phat DC\\n',\n",
       " 'Ban BT song lap tai DTM My Dinh dt 138 m2, MT 11m, da hoan thien dep 3.5 tang, co gara oto, noi that hien dai, truoc nha 12m, gan duong Doan Thi Diem. Gia 19 ty. Lien he:\\n',\n",
       " 'Sua Laptop Lay tien, uy tin, hieu qua, gia re, chuyen nghiep LH: Mr Phong\\n',\n",
       " 'Mang len co 1 it thoi a? Xach bao nhieu do nhu vay lai con mang them nua. Sao ko mang 1 bao tai cho bo~ cong .:-) \\n',\n",
       " 'Hay anh len cho vien kinh te hoi chi van anh giup em voi? Em so diem trac thi chi tren day moi biet.\\n',\n",
       " \"Gi ma vo nghia? Con dang chet di trong cai van phong day ah? Ra ngoai ma nhin troi dep that day, do be'o i..\\n\",\n",
       " 'Mo ban 100.000 ve \"Bay khap Viet Nam\" gia co 10.000 dong tai www.vietjetair. com tu 21h-23h59 ngay 10,11,12. Hotline 19001886\\n',\n",
       " 'BAN LA NGUOI MAY MAN! HaLinh Tang ban 5 Lan Dau Gia MIEN PHI 1 Cay Vang 9999 (17trieu) ne CoHoi DacBiet chi co Trong Hom Nay Thoi! Soan: DG GIA gui 8752\\n',\n",
       " 'Em nghi the thoi. Dung la ba gia. Anh lam roi mat cai the ra vao cty roi. H chang biet lam the nao ca.\\n',\n",
       " 'So huu vong eo thon gon san chac la muc tieu khong chi rieng chi em phai dep. dai massage giam gia dac biet chi con\\n',\n",
       " 'be ngoai thi the thoi. em phai lon hon a 2 tuoi la it. vay thoi, cmsn hut\\n',\n",
       " 'Anh xem ds co ai duoi 3 ko?\\n',\n",
       " 'Son chat luong cao, giao hang tan noi, gia ca canh tranh. LH dia chi\\n',\n",
       " 'Real Madrid - Barcelona  Hay soan tin: BD RMA gui 8779 de CHIEN THANG  KET QUA CHO: BD RMA gui 8579. TAI XIU SANG NHAT: BD TX gui 8779\\n',\n",
       " 'Chuc cau nam moi vui ve gap nhieu dieu may man va thanh cong trong su nghiep\\n',\n",
       " 'Ban da dang ki tu choi nhan tin QC! Tin nhan quang cao se khong duoc gui toi so thue bao cua ban nua! Chuc ban 1 ngay vui ve,tot lanh!\\n',\n",
       " 'Gia soc: nhan dip 30/4 1/5 giam gia cuc soc cho sim so dep tu 23/4 3/5 Co hoi co 1 khong 2 Lien he giao dich\\n',\n",
       " 'Chung cu ban gia goc 16,2 trieu dong/m2, thanh toan 9 dot, nam ngay tren mat duong Pham Van Dong, Tu Liem, cach Cau Giay 15 phut di xe may. Quy khach vui long lien he de duoc tu van mien phi\\n',\n",
       " 'Cuoc song ngay cang kho khan\\n',\n",
       " ':)) anh dua thoi. Da mang 1 dong quan ao lai xach them nua cho nang ra. \\n',\n",
       " 'the ko con dua nao doc than giong anh ah.\\n',\n",
       " 'Can ho doidien cho Pham Van Hai, Tan Binh chi 1,6 ty/can (da bao gom VAT) LH dia chi\\n',\n",
       " 'Tu viettel tang 50% gia tri the nap cho thue bao tra truoc. So tien cong them su dung cho goi va nhan tin ngoai mang noi mang\\n',\n",
       " 'Du an Dolphin Plaza, 28 Tran Binh, Cau giay , Ha noi. Thiet ke rat hien dai cua Singapore, hon 6000 m2 san vuon, cay xanh mat dat, hon 3000 m2 lam khu sinh thai tai cot 17,5m, be boi cho nguoi lon, be boi cho tre em, san tam nang ngay\\n',\n",
       " 'WapPush: Sexy>>Emgai thoi ken nhin rat PHE(13phut ban dep) http://\\n',\n",
       " 'TV 6723 Ban Muon Biet TU VI trong nam 2012 TIEN BAC-CONG DANH-TINH DUYEN & cach giai VAN nhu the nao. Soan: TV Namsinh gui 6723.\\n',\n",
       " 'Mai di tap the duc thi goi to nhe\\n',\n",
       " 'BAN LA NGUOI MAY MAN HaLinh Tang ban 5 Lan DauGia MIEN PHI 1 Cay Vang 9999 (17trieu) ne CoHoi Dac Biet chi co Trong Hom Nay Thoi Soan: DG GIA gui 8752\\n',\n",
       " 'Quen mat chua rua da mang cho a. E vua di ve.\\n',\n",
       " 'Ban Laptop cu, laptop core i5, laptop core i3, tem zin gia re LH: \\n',\n",
       " 'the ngay duong la luc nao. hoa ra a sinh sau em may thang lien\\n',\n",
       " 'Cung cap gian gia gia ke shop thoi trang gia goc va nhan thiet ke, gia cong shop gia re lien he dia chi\\n',\n",
       " 'The co bao luu cung anh ko. Trong tg bao luu van dang ky hoc lai thoai mai.chi ay bao the\\n',\n",
       " 'Hom nay di hoc co vui khong ?\\n',\n",
       " 'Thoi duoc roi. Ma anh di lam thi chang onl dau ma biet. Ve toi kp face thi lay gi giai tri?\\n',\n",
       " ':( biet the nho em mang cho 2 it ve giat h lai phai di gat quan ao\\n',\n",
       " 'Ban da dang ki tu choi nhan tin QC! Tin nhan quang cao se khong duoc gui toi so thue bao cua ban nua!Chuc ban 1 ngay vui ve,tot lanh!\\n',\n",
       " 'U ch? qua d?y l?y t?m 6h k? 10\\n',\n",
       " 'Cty Dinh Thai - Chuyen sx cac loai dien tro dot nong dung trong cong nghiep va dan dung. Lh DC\\n',\n",
       " 'TV 6723 Ban Muon Biet TU VI trong nam 2012 TIEN BAC CONG DANH TINH DUYEN & cach giai VAN nhu the nao. Soan: TV Namsinh gui 6723.\\n',\n",
       " 'C cung biet so co a']"
      ]
     },
     "execution_count": 3,
     "metadata": {},
     "output_type": "execute_result"
    }
   ],
   "source": [
    "message"
   ]
  },
  {
   "cell_type": "code",
   "execution_count": 4,
   "metadata": {},
   "outputs": [],
   "source": [
    "# label"
   ]
  },
  {
   "cell_type": "code",
   "execution_count": 5,
   "metadata": {
    "scrolled": true
   },
   "outputs": [
    {
     "data": {
      "text/plain": [
       "100"
      ]
     },
     "execution_count": 5,
     "metadata": {},
     "output_type": "execute_result"
    }
   ],
   "source": [
    "len(label)"
   ]
  },
  {
   "cell_type": "code",
   "execution_count": 6,
   "metadata": {
    "scrolled": true
   },
   "outputs": [],
   "source": [
    "## chuyen doi list den DataFrame\n",
    "message_Frame = pd.DataFrame({'label': label, 'message': message}) "
   ]
  },
  {
   "cell_type": "code",
   "execution_count": 7,
   "metadata": {},
   "outputs": [
    {
     "data": {
      "text/html": [
       "<div>\n",
       "<style scoped>\n",
       "    .dataframe tbody tr th:only-of-type {\n",
       "        vertical-align: middle;\n",
       "    }\n",
       "\n",
       "    .dataframe tbody tr th {\n",
       "        vertical-align: top;\n",
       "    }\n",
       "\n",
       "    .dataframe thead th {\n",
       "        text-align: right;\n",
       "    }\n",
       "</style>\n",
       "<table border=\"1\" class=\"dataframe\">\n",
       "  <thead>\n",
       "    <tr style=\"text-align: right;\">\n",
       "      <th></th>\n",
       "      <th>label</th>\n",
       "      <th>message</th>\n",
       "    </tr>\n",
       "  </thead>\n",
       "  <tbody>\n",
       "    <tr>\n",
       "      <th>0</th>\n",
       "      <td>-1</td>\n",
       "      <td>Ghe goi dau loai 1 chinh hang giam gia con han...</td>\n",
       "    </tr>\n",
       "    <tr>\n",
       "      <th>1</th>\n",
       "      <td>1</td>\n",
       "      <td>Anh thay em tuoi tho du doi a phet day. Viet v...</td>\n",
       "    </tr>\n",
       "    <tr>\n",
       "      <th>2</th>\n",
       "      <td>-1</td>\n",
       "      <td>Chuc mung 093 xxx nhan duoc bai hat Vip \"Luc m...</td>\n",
       "    </tr>\n",
       "    <tr>\n",
       "      <th>3</th>\n",
       "      <td>1</td>\n",
       "      <td>Troi dep thi bao troi dep, u ko dien den muc i...</td>\n",
       "    </tr>\n",
       "    <tr>\n",
       "      <th>4</th>\n",
       "      <td>1</td>\n",
       "      <td>Ranh tao nho chut viec\\n</td>\n",
       "    </tr>\n",
       "    <tr>\n",
       "      <th>5</th>\n",
       "      <td>-1</td>\n",
       "      <td>Nhan dip ra mat tang Quy khach SBC se du doan ...</td>\n",
       "    </tr>\n",
       "    <tr>\n",
       "      <th>6</th>\n",
       "      <td>-1</td>\n",
       "      <td>Ban duoc tang Tuyen tap 500 GAME ONLINE chon l...</td>\n",
       "    </tr>\n",
       "    <tr>\n",
       "      <th>7</th>\n",
       "      <td>1</td>\n",
       "      <td>ko phai ninh dam. tu nhien nghi ra de nt ah\\n</td>\n",
       "    </tr>\n",
       "    <tr>\n",
       "      <th>8</th>\n",
       "      <td>1</td>\n",
       "      <td>Duoc roi dang nao cung phai qua ben do nop don...</td>\n",
       "    </tr>\n",
       "    <tr>\n",
       "      <th>9</th>\n",
       "      <td>1</td>\n",
       "      <td>May dang o dau the\\n</td>\n",
       "    </tr>\n",
       "    <tr>\n",
       "      <th>10</th>\n",
       "      <td>-1</td>\n",
       "      <td>Xin cam on va chuc mung ban cung 5585 ban khac...</td>\n",
       "    </tr>\n",
       "    <tr>\n",
       "      <th>11</th>\n",
       "      <td>1</td>\n",
       "      <td>chac ko dau. ong anh dua di thi em moi di duoc...</td>\n",
       "    </tr>\n",
       "    <tr>\n",
       "      <th>12</th>\n",
       "      <td>1</td>\n",
       "      <td>chinh a cung goi la ba gia roi con noi gi nua....</td>\n",
       "    </tr>\n",
       "    <tr>\n",
       "      <th>13</th>\n",
       "      <td>1</td>\n",
       "      <td>Cau goi dien cho thay chua. Hom nay len gap kh...</td>\n",
       "    </tr>\n",
       "    <tr>\n",
       "      <th>14</th>\n",
       "      <td>1</td>\n",
       "      <td>co 3 nguoi giong em. con vai nguoi nua duoi 3 ...</td>\n",
       "    </tr>\n",
       "    <tr>\n",
       "      <th>15</th>\n",
       "      <td>1</td>\n",
       "      <td>Chuc anh vui ve\\n</td>\n",
       "    </tr>\n",
       "    <tr>\n",
       "      <th>16</th>\n",
       "      <td>-1</td>\n",
       "      <td>Thanh ly hang he hang cong so quan ao hang thu...</td>\n",
       "    </tr>\n",
       "    <tr>\n",
       "      <th>17</th>\n",
       "      <td>1</td>\n",
       "      <td>Chuc mung nam moi!\\n</td>\n",
       "    </tr>\n",
       "    <tr>\n",
       "      <th>18</th>\n",
       "      <td>1</td>\n",
       "      <td>chuan bi $ hoc lai tiep\\n</td>\n",
       "    </tr>\n",
       "    <tr>\n",
       "      <th>19</th>\n",
       "      <td>1</td>\n",
       "      <td>ko sao ca di ngu som di.\\n</td>\n",
       "    </tr>\n",
       "    <tr>\n",
       "      <th>20</th>\n",
       "      <td>-1</td>\n",
       "      <td>Dang ky goi Tan Mao de tiet kiem 97% cuoc goi ...</td>\n",
       "    </tr>\n",
       "    <tr>\n",
       "      <th>21</th>\n",
       "      <td>-1</td>\n",
       "      <td>(QC) Soan tin DK gui 9224 de dang ki FunRing h...</td>\n",
       "    </tr>\n",
       "    <tr>\n",
       "      <th>22</th>\n",
       "      <td>-1</td>\n",
       "      <td>Tri An KH MOBIFONE Dau Nam tang LOC VANG cho T...</td>\n",
       "    </tr>\n",
       "    <tr>\n",
       "      <th>23</th>\n",
       "      <td>-1</td>\n",
       "      <td>QC Ban da nhan duoc LOI CHUC NAM MOI tu mot ng...</td>\n",
       "    </tr>\n",
       "    <tr>\n",
       "      <th>24</th>\n",
       "      <td>-1</td>\n",
       "      <td>Cay Online. Tai MIEN PHI, tang ngay 50k Tai Kh...</td>\n",
       "    </tr>\n",
       "    <tr>\n",
       "      <th>25</th>\n",
       "      <td>-1</td>\n",
       "      <td>Ban co so SERI 2281969 TRUNG VOI ngay thanh la...</td>\n",
       "    </tr>\n",
       "    <tr>\n",
       "      <th>26</th>\n",
       "      <td>1</td>\n",
       "      <td>Cam on cau nhieu nhe\\n</td>\n",
       "    </tr>\n",
       "    <tr>\n",
       "      <th>27</th>\n",
       "      <td>-1</td>\n",
       "      <td>QC.Mot nguoi da goi truc tiep den tong dai yeu...</td>\n",
       "    </tr>\n",
       "    <tr>\n",
       "      <th>28</th>\n",
       "      <td>-1</td>\n",
       "      <td>Re nhat rong bay tu quy du loai, website chuye...</td>\n",
       "    </tr>\n",
       "    <tr>\n",
       "      <th>29</th>\n",
       "      <td>-1</td>\n",
       "      <td>Ban biet thu Phap co mat pho Tran Quoc Toan, s...</td>\n",
       "    </tr>\n",
       "    <tr>\n",
       "      <th>...</th>\n",
       "      <td>...</td>\n",
       "      <td>...</td>\n",
       "    </tr>\n",
       "    <tr>\n",
       "      <th>70</th>\n",
       "      <td>1</td>\n",
       "      <td>Anh xem ds co ai duoi 3 ko?\\n</td>\n",
       "    </tr>\n",
       "    <tr>\n",
       "      <th>71</th>\n",
       "      <td>-1</td>\n",
       "      <td>Son chat luong cao, giao hang tan noi, gia ca ...</td>\n",
       "    </tr>\n",
       "    <tr>\n",
       "      <th>72</th>\n",
       "      <td>-1</td>\n",
       "      <td>Real Madrid - Barcelona  Hay soan tin: BD RMA ...</td>\n",
       "    </tr>\n",
       "    <tr>\n",
       "      <th>73</th>\n",
       "      <td>1</td>\n",
       "      <td>Chuc cau nam moi vui ve gap nhieu dieu may man...</td>\n",
       "    </tr>\n",
       "    <tr>\n",
       "      <th>74</th>\n",
       "      <td>-1</td>\n",
       "      <td>Ban da dang ki tu choi nhan tin QC! Tin nhan q...</td>\n",
       "    </tr>\n",
       "    <tr>\n",
       "      <th>75</th>\n",
       "      <td>-1</td>\n",
       "      <td>Gia soc: nhan dip 30/4 1/5 giam gia cuc soc ch...</td>\n",
       "    </tr>\n",
       "    <tr>\n",
       "      <th>76</th>\n",
       "      <td>-1</td>\n",
       "      <td>Chung cu ban gia goc 16,2 trieu dong/m2, thanh...</td>\n",
       "    </tr>\n",
       "    <tr>\n",
       "      <th>77</th>\n",
       "      <td>1</td>\n",
       "      <td>Cuoc song ngay cang kho khan\\n</td>\n",
       "    </tr>\n",
       "    <tr>\n",
       "      <th>78</th>\n",
       "      <td>1</td>\n",
       "      <td>:)) anh dua thoi. Da mang 1 dong quan ao lai x...</td>\n",
       "    </tr>\n",
       "    <tr>\n",
       "      <th>79</th>\n",
       "      <td>1</td>\n",
       "      <td>the ko con dua nao doc than giong anh ah.\\n</td>\n",
       "    </tr>\n",
       "    <tr>\n",
       "      <th>80</th>\n",
       "      <td>-1</td>\n",
       "      <td>Can ho doidien cho Pham Van Hai, Tan Binh chi ...</td>\n",
       "    </tr>\n",
       "    <tr>\n",
       "      <th>81</th>\n",
       "      <td>-1</td>\n",
       "      <td>Tu viettel tang 50% gia tri the nap cho thue b...</td>\n",
       "    </tr>\n",
       "    <tr>\n",
       "      <th>82</th>\n",
       "      <td>-1</td>\n",
       "      <td>Du an Dolphin Plaza, 28 Tran Binh, Cau giay , ...</td>\n",
       "    </tr>\n",
       "    <tr>\n",
       "      <th>83</th>\n",
       "      <td>-1</td>\n",
       "      <td>WapPush: Sexy&gt;&gt;Emgai thoi ken nhin rat PHE(13p...</td>\n",
       "    </tr>\n",
       "    <tr>\n",
       "      <th>84</th>\n",
       "      <td>-1</td>\n",
       "      <td>TV 6723 Ban Muon Biet TU VI trong nam 2012 TIE...</td>\n",
       "    </tr>\n",
       "    <tr>\n",
       "      <th>85</th>\n",
       "      <td>1</td>\n",
       "      <td>Mai di tap the duc thi goi to nhe\\n</td>\n",
       "    </tr>\n",
       "    <tr>\n",
       "      <th>86</th>\n",
       "      <td>-1</td>\n",
       "      <td>BAN LA NGUOI MAY MAN HaLinh Tang ban 5 Lan Dau...</td>\n",
       "    </tr>\n",
       "    <tr>\n",
       "      <th>87</th>\n",
       "      <td>1</td>\n",
       "      <td>Quen mat chua rua da mang cho a. E vua di ve.\\n</td>\n",
       "    </tr>\n",
       "    <tr>\n",
       "      <th>88</th>\n",
       "      <td>-1</td>\n",
       "      <td>Ban Laptop cu, laptop core i5, laptop core i3,...</td>\n",
       "    </tr>\n",
       "    <tr>\n",
       "      <th>89</th>\n",
       "      <td>1</td>\n",
       "      <td>the ngay duong la luc nao. hoa ra a sinh sau e...</td>\n",
       "    </tr>\n",
       "    <tr>\n",
       "      <th>90</th>\n",
       "      <td>-1</td>\n",
       "      <td>Cung cap gian gia gia ke shop thoi trang gia g...</td>\n",
       "    </tr>\n",
       "    <tr>\n",
       "      <th>91</th>\n",
       "      <td>1</td>\n",
       "      <td>The co bao luu cung anh ko. Trong tg bao luu v...</td>\n",
       "    </tr>\n",
       "    <tr>\n",
       "      <th>92</th>\n",
       "      <td>1</td>\n",
       "      <td>Hom nay di hoc co vui khong ?\\n</td>\n",
       "    </tr>\n",
       "    <tr>\n",
       "      <th>93</th>\n",
       "      <td>1</td>\n",
       "      <td>Thoi duoc roi. Ma anh di lam thi chang onl dau...</td>\n",
       "    </tr>\n",
       "    <tr>\n",
       "      <th>94</th>\n",
       "      <td>1</td>\n",
       "      <td>:( biet the nho em mang cho 2 it ve giat h lai...</td>\n",
       "    </tr>\n",
       "    <tr>\n",
       "      <th>95</th>\n",
       "      <td>-1</td>\n",
       "      <td>Ban da dang ki tu choi nhan tin QC! Tin nhan q...</td>\n",
       "    </tr>\n",
       "    <tr>\n",
       "      <th>96</th>\n",
       "      <td>1</td>\n",
       "      <td>U ch? qua d?y l?y t?m 6h k? 10\\n</td>\n",
       "    </tr>\n",
       "    <tr>\n",
       "      <th>97</th>\n",
       "      <td>-1</td>\n",
       "      <td>Cty Dinh Thai - Chuyen sx cac loai dien tro do...</td>\n",
       "    </tr>\n",
       "    <tr>\n",
       "      <th>98</th>\n",
       "      <td>-1</td>\n",
       "      <td>TV 6723 Ban Muon Biet TU VI trong nam 2012 TIE...</td>\n",
       "    </tr>\n",
       "    <tr>\n",
       "      <th>99</th>\n",
       "      <td>1</td>\n",
       "      <td>C cung biet so co a</td>\n",
       "    </tr>\n",
       "  </tbody>\n",
       "</table>\n",
       "<p>100 rows × 2 columns</p>\n",
       "</div>"
      ],
      "text/plain": [
       "   label                                            message\n",
       "0     -1  Ghe goi dau loai 1 chinh hang giam gia con han...\n",
       "1      1  Anh thay em tuoi tho du doi a phet day. Viet v...\n",
       "2     -1  Chuc mung 093 xxx nhan duoc bai hat Vip \"Luc m...\n",
       "3      1  Troi dep thi bao troi dep, u ko dien den muc i...\n",
       "4      1                           Ranh tao nho chut viec\\n\n",
       "5     -1  Nhan dip ra mat tang Quy khach SBC se du doan ...\n",
       "6     -1  Ban duoc tang Tuyen tap 500 GAME ONLINE chon l...\n",
       "7      1      ko phai ninh dam. tu nhien nghi ra de nt ah\\n\n",
       "8      1  Duoc roi dang nao cung phai qua ben do nop don...\n",
       "9      1                               May dang o dau the\\n\n",
       "10    -1  Xin cam on va chuc mung ban cung 5585 ban khac...\n",
       "11     1  chac ko dau. ong anh dua di thi em moi di duoc...\n",
       "12     1  chinh a cung goi la ba gia roi con noi gi nua....\n",
       "13     1  Cau goi dien cho thay chua. Hom nay len gap kh...\n",
       "14     1  co 3 nguoi giong em. con vai nguoi nua duoi 3 ...\n",
       "15     1                                  Chuc anh vui ve\\n\n",
       "16    -1  Thanh ly hang he hang cong so quan ao hang thu...\n",
       "17     1                               Chuc mung nam moi!\\n\n",
       "18     1                          chuan bi $ hoc lai tiep\\n\n",
       "19     1                         ko sao ca di ngu som di.\\n\n",
       "20    -1  Dang ky goi Tan Mao de tiet kiem 97% cuoc goi ...\n",
       "21    -1  (QC) Soan tin DK gui 9224 de dang ki FunRing h...\n",
       "22    -1  Tri An KH MOBIFONE Dau Nam tang LOC VANG cho T...\n",
       "23    -1  QC Ban da nhan duoc LOI CHUC NAM MOI tu mot ng...\n",
       "24    -1  Cay Online. Tai MIEN PHI, tang ngay 50k Tai Kh...\n",
       "25    -1  Ban co so SERI 2281969 TRUNG VOI ngay thanh la...\n",
       "26     1                             Cam on cau nhieu nhe\\n\n",
       "27    -1  QC.Mot nguoi da goi truc tiep den tong dai yeu...\n",
       "28    -1  Re nhat rong bay tu quy du loai, website chuye...\n",
       "29    -1  Ban biet thu Phap co mat pho Tran Quoc Toan, s...\n",
       "..   ...                                                ...\n",
       "70     1                      Anh xem ds co ai duoi 3 ko?\\n\n",
       "71    -1  Son chat luong cao, giao hang tan noi, gia ca ...\n",
       "72    -1  Real Madrid - Barcelona  Hay soan tin: BD RMA ...\n",
       "73     1  Chuc cau nam moi vui ve gap nhieu dieu may man...\n",
       "74    -1  Ban da dang ki tu choi nhan tin QC! Tin nhan q...\n",
       "75    -1  Gia soc: nhan dip 30/4 1/5 giam gia cuc soc ch...\n",
       "76    -1  Chung cu ban gia goc 16,2 trieu dong/m2, thanh...\n",
       "77     1                     Cuoc song ngay cang kho khan\\n\n",
       "78     1  :)) anh dua thoi. Da mang 1 dong quan ao lai x...\n",
       "79     1        the ko con dua nao doc than giong anh ah.\\n\n",
       "80    -1  Can ho doidien cho Pham Van Hai, Tan Binh chi ...\n",
       "81    -1  Tu viettel tang 50% gia tri the nap cho thue b...\n",
       "82    -1  Du an Dolphin Plaza, 28 Tran Binh, Cau giay , ...\n",
       "83    -1  WapPush: Sexy>>Emgai thoi ken nhin rat PHE(13p...\n",
       "84    -1  TV 6723 Ban Muon Biet TU VI trong nam 2012 TIE...\n",
       "85     1                Mai di tap the duc thi goi to nhe\\n\n",
       "86    -1  BAN LA NGUOI MAY MAN HaLinh Tang ban 5 Lan Dau...\n",
       "87     1    Quen mat chua rua da mang cho a. E vua di ve.\\n\n",
       "88    -1  Ban Laptop cu, laptop core i5, laptop core i3,...\n",
       "89     1  the ngay duong la luc nao. hoa ra a sinh sau e...\n",
       "90    -1  Cung cap gian gia gia ke shop thoi trang gia g...\n",
       "91     1  The co bao luu cung anh ko. Trong tg bao luu v...\n",
       "92     1                    Hom nay di hoc co vui khong ?\\n\n",
       "93     1  Thoi duoc roi. Ma anh di lam thi chang onl dau...\n",
       "94     1  :( biet the nho em mang cho 2 it ve giat h lai...\n",
       "95    -1  Ban da dang ki tu choi nhan tin QC! Tin nhan q...\n",
       "96     1                   U ch? qua d?y l?y t?m 6h k? 10\\n\n",
       "97    -1  Cty Dinh Thai - Chuyen sx cac loai dien tro do...\n",
       "98    -1  TV 6723 Ban Muon Biet TU VI trong nam 2012 TIE...\n",
       "99     1                                C cung biet so co a\n",
       "\n",
       "[100 rows x 2 columns]"
      ]
     },
     "execution_count": 7,
     "metadata": {},
     "output_type": "execute_result"
    }
   ],
   "source": [
    "message_Frame"
   ]
  },
  {
   "cell_type": "code",
   "execution_count": 8,
   "metadata": {
    "scrolled": true
   },
   "outputs": [],
   "source": [
    "# message_Frame.describe()"
   ]
  },
  {
   "cell_type": "code",
   "execution_count": 9,
   "metadata": {},
   "outputs": [],
   "source": [
    "# message_Frame.groupby('label').describe()"
   ]
  },
  {
   "cell_type": "code",
   "execution_count": 10,
   "metadata": {},
   "outputs": [
    {
     "data": {
      "text/html": [
       "<div>\n",
       "<style scoped>\n",
       "    .dataframe tbody tr th:only-of-type {\n",
       "        vertical-align: middle;\n",
       "    }\n",
       "\n",
       "    .dataframe tbody tr th {\n",
       "        vertical-align: top;\n",
       "    }\n",
       "\n",
       "    .dataframe thead th {\n",
       "        text-align: right;\n",
       "    }\n",
       "</style>\n",
       "<table border=\"1\" class=\"dataframe\">\n",
       "  <thead>\n",
       "    <tr style=\"text-align: right;\">\n",
       "      <th></th>\n",
       "      <th>label</th>\n",
       "      <th>message</th>\n",
       "      <th>length</th>\n",
       "    </tr>\n",
       "  </thead>\n",
       "  <tbody>\n",
       "    <tr>\n",
       "      <th>0</th>\n",
       "      <td>-1</td>\n",
       "      <td>Ghe goi dau loai 1 chinh hang giam gia con han...</td>\n",
       "      <td>116</td>\n",
       "    </tr>\n",
       "    <tr>\n",
       "      <th>1</th>\n",
       "      <td>1</td>\n",
       "      <td>Anh thay em tuoi tho du doi a phet day. Viet v...</td>\n",
       "      <td>100</td>\n",
       "    </tr>\n",
       "    <tr>\n",
       "      <th>2</th>\n",
       "      <td>-1</td>\n",
       "      <td>Chuc mung 093 xxx nhan duoc bai hat Vip \"Luc m...</td>\n",
       "      <td>142</td>\n",
       "    </tr>\n",
       "    <tr>\n",
       "      <th>3</th>\n",
       "      <td>1</td>\n",
       "      <td>Troi dep thi bao troi dep, u ko dien den muc i...</td>\n",
       "      <td>102</td>\n",
       "    </tr>\n",
       "    <tr>\n",
       "      <th>4</th>\n",
       "      <td>1</td>\n",
       "      <td>Ranh tao nho chut viec\\n</td>\n",
       "      <td>23</td>\n",
       "    </tr>\n",
       "  </tbody>\n",
       "</table>\n",
       "</div>"
      ],
      "text/plain": [
       "  label                                            message  length\n",
       "0    -1  Ghe goi dau loai 1 chinh hang giam gia con han...     116\n",
       "1     1  Anh thay em tuoi tho du doi a phet day. Viet v...     100\n",
       "2    -1  Chuc mung 093 xxx nhan duoc bai hat Vip \"Luc m...     142\n",
       "3     1  Troi dep thi bao troi dep, u ko dien den muc i...     102\n",
       "4     1                           Ranh tao nho chut viec\\n      23"
      ]
     },
     "execution_count": 10,
     "metadata": {},
     "output_type": "execute_result"
    }
   ],
   "source": [
    "message_Frame['length'] = message_Frame['message'].apply(len)\n",
    "message_Frame.head()"
   ]
  },
  {
   "cell_type": "code",
   "execution_count": 11,
   "metadata": {},
   "outputs": [
    {
     "data": {
      "text/html": [
       "<div>\n",
       "<style scoped>\n",
       "    .dataframe tbody tr th:only-of-type {\n",
       "        vertical-align: middle;\n",
       "    }\n",
       "\n",
       "    .dataframe tbody tr th {\n",
       "        vertical-align: top;\n",
       "    }\n",
       "\n",
       "    .dataframe thead th {\n",
       "        text-align: right;\n",
       "    }\n",
       "</style>\n",
       "<table border=\"1\" class=\"dataframe\">\n",
       "  <thead>\n",
       "    <tr style=\"text-align: right;\">\n",
       "      <th></th>\n",
       "      <th>length</th>\n",
       "    </tr>\n",
       "  </thead>\n",
       "  <tbody>\n",
       "    <tr>\n",
       "      <th>count</th>\n",
       "      <td>100.000000</td>\n",
       "    </tr>\n",
       "    <tr>\n",
       "      <th>mean</th>\n",
       "      <td>89.270000</td>\n",
       "    </tr>\n",
       "    <tr>\n",
       "      <th>std</th>\n",
       "      <td>48.084701</td>\n",
       "    </tr>\n",
       "    <tr>\n",
       "      <th>min</th>\n",
       "      <td>16.000000</td>\n",
       "    </tr>\n",
       "    <tr>\n",
       "      <th>25%</th>\n",
       "      <td>56.000000</td>\n",
       "    </tr>\n",
       "    <tr>\n",
       "      <th>50%</th>\n",
       "      <td>83.500000</td>\n",
       "    </tr>\n",
       "    <tr>\n",
       "      <th>75%</th>\n",
       "      <td>116.000000</td>\n",
       "    </tr>\n",
       "    <tr>\n",
       "      <th>max</th>\n",
       "      <td>271.000000</td>\n",
       "    </tr>\n",
       "  </tbody>\n",
       "</table>\n",
       "</div>"
      ],
      "text/plain": [
       "           length\n",
       "count  100.000000\n",
       "mean    89.270000\n",
       "std     48.084701\n",
       "min     16.000000\n",
       "25%     56.000000\n",
       "50%     83.500000\n",
       "75%    116.000000\n",
       "max    271.000000"
      ]
     },
     "execution_count": 11,
     "metadata": {},
     "output_type": "execute_result"
    }
   ],
   "source": [
    "message_Frame.describe()"
   ]
  },
  {
   "cell_type": "code",
   "execution_count": 12,
   "metadata": {},
   "outputs": [
    {
     "data": {
      "text/plain": [
       "array([<matplotlib.axes._subplots.AxesSubplot object at 0x7f330ac1c8d0>,\n",
       "       <matplotlib.axes._subplots.AxesSubplot object at 0x7f330ab65ba8>], dtype=object)"
      ]
     },
     "execution_count": 12,
     "metadata": {},
     "output_type": "execute_result"
    },
    {
     "data": {
      "image/png": "[encoded data removed]",
      "text/plain": [
       "<matplotlib.figure.Figure at 0x7f330ac1c208>"
      ]
     },
     "metadata": {},
     "output_type": "display_data"
    }
   ],
   "source": [
    "%matplotlib inline\n",
    "\n",
    "# ve do thi histogram ve \n",
    "message_Frame.hist(by='label', column='length', bins=30, figsize=[15, 5])"
   ]
  },
  {
   "cell_type": "code",
   "execution_count": 13,
   "metadata": {},
   "outputs": [],
   "source": [
    "x = message_Frame.message\n",
    "y = message_Frame.label\n"
   ]
  },
  {
   "cell_type": "code",
   "execution_count": 14,
   "metadata": {},
   "outputs": [],
   "source": [
    "from sklearn.model_selection import train_test_split\n",
    "\n",
    "# chia tap ngu lieu ra lam 2 phan ti le \n",
    "x_train, x_test, y_train, y_test = train_test_split(x, y, test_size = 0.25, random_state=11)"
   ]
  },
  {
   "cell_type": "code",
   "execution_count": 15,
   "metadata": {},
   "outputs": [
    {
     "data": {
      "text/plain": [
       "(75,)"
      ]
     },
     "execution_count": 15,
     "metadata": {},
     "output_type": "execute_result"
    }
   ],
   "source": [
    "x_train.shape"
   ]
  },
  {
   "cell_type": "code",
   "execution_count": 16,
   "metadata": {},
   "outputs": [
    {
     "data": {
      "text/plain": [
       "(25,)"
      ]
     },
     "execution_count": 16,
     "metadata": {},
     "output_type": "execute_result"
    }
   ],
   "source": [
    "x_test.shape"
   ]
  },
  {
   "cell_type": "code",
   "execution_count": 17,
   "metadata": {
    "scrolled": true
   },
   "outputs": [
    {
     "data": {
      "text/plain": [
       "pandas.core.series.Series"
      ]
     },
     "execution_count": 17,
     "metadata": {},
     "output_type": "execute_result"
    }
   ],
   "source": [
    "type(x_train)"
   ]
  },
  {
   "cell_type": "code",
   "execution_count": 18,
   "metadata": {},
   "outputs": [],
   "source": [
    "vect = CountVectorizer()\n",
    "# chuyen doi den vecto\n",
    "X_train = vect.fit_transform(x_train)\n",
    "# chuyen doi vecto\n",
    "X_test = vect.transform(x_test)"
   ]
  },
  {
   "cell_type": "code",
   "execution_count": 97,
   "metadata": {},
   "outputs": [],
   "source": [
    "tfidf_x_train = TfidfTransformer().fit_transform(X_train)\n",
    "tfidf_x_test = TfidfTransformer().fit_transform(X_test)"
   ]
  },
  {
   "cell_type": "code",
   "execution_count": 98,
   "metadata": {},
   "outputs": [
    {
     "name": "stdout",
     "output_type": "stream",
     "text": [
      "  (0, 80)\t0.545099570124\n",
      "  (0, 345)\t0.397850434027\n",
      "  (0, 35)\t0.545099570124\n",
      "  (0, 4)\t0.497441403027\n",
      "  (1, 94)\t0.123613291737\n",
      "  (1, 282)\t0.161017574588\n",
      "  (1, 3)\t0.189312822261\n",
      "  (1, 489)\t0.172761163424\n",
      "  (1, 311)\t0.239445190954\n",
      "  (1, 158)\t0.247226583475\n",
      "  (1, 54)\t0.345522326848\n",
      "  (1, 197)\t0.345522326848\n",
      "  (1, 472)\t0.378625644522\n",
      "  (1, 262)\t0.189312822261\n",
      "  (1, 278)\t0.123613291737\n",
      "  (1, 490)\t0.161017574588\n",
      "  (1, 448)\t0.109878019436\n",
      "  (1, 279)\t0.161017574588\n",
      "  (1, 307)\t0.127914256914\n",
      "  (1, 55)\t0.101952296487\n",
      "  (1, 396)\t0.172761163424\n",
      "  (1, 391)\t0.119722595477\n",
      "  (1, 130)\t0.132722326915\n",
      "  (1, 298)\t0.161017574588\n",
      "  (1, 456)\t0.127914256914\n",
      "  :\t:\n",
      "  (73, 431)\t0.246351733721\n",
      "  (74, 311)\t0.141733261014\n",
      "  (74, 55)\t0.241391884153\n",
      "  (74, 391)\t0.141733261014\n",
      "  (74, 380)\t0.15712295685\n",
      "  (74, 189)\t0.283466522028\n",
      "  (74, 379)\t0.283466522028\n",
      "  (74, 101)\t0.230641633638\n",
      "  (74, 108)\t0.179836501044\n",
      "  (74, 465)\t0.137528321661\n",
      "  (74, 297)\t0.133660152428\n",
      "  (74, 115)\t0.146339250939\n",
      "  (74, 426)\t0.190620206954\n",
      "  (74, 474)\t0.171025571766\n",
      "  (74, 402)\t0.190620206954\n",
      "  (74, 445)\t0.179836501044\n",
      "  (74, 95)\t0.190620206954\n",
      "  (74, 373)\t0.224117457059\n",
      "  (74, 19)\t0.224117457059\n",
      "  (74, 246)\t0.224117457059\n",
      "  (74, 487)\t0.224117457059\n",
      "  (74, 16)\t0.224117457059\n",
      "  (74, 25)\t0.224117457059\n",
      "  (74, 255)\t0.224117457059\n",
      "  (74, 39)\t0.224117457059\n"
     ]
    }
   ],
   "source": [
    "print(tfidf_x_train)"
   ]
  },
  {
   "cell_type": "code",
   "execution_count": 21,
   "metadata": {},
   "outputs": [],
   "source": [
    "# phan loai theo cac phuong phap\n",
    "svc = SVC(kernel = 'linear')\n",
    "mnb = MultinomialNB(alpha =0.2)\n",
    "gnb  = GaussianNB()\n",
    "lr = LogisticRegression(solver='liblinear', penalty='l1')\n",
    "rfc = RandomForestClassifier(n_estimators=100,random_state=11)\n",
    "abc = AdaBoostClassifier(n_estimators =100,random_state=11)"
   ]
  },
  {
   "cell_type": "code",
   "execution_count": 22,
   "metadata": {},
   "outputs": [],
   "source": [
    "def training(clf,x_train,Y_train):\n",
    "    clf.fit(x_train,Y_train)\n",
    "    \n",
    "def predict(clf,X_test):\n",
    "    return clf.predict(X_test)"
   ]
  },
  {
   "cell_type": "code",
   "execution_count": 23,
   "metadata": {},
   "outputs": [],
   "source": [
    "# dinh nghia ten phan loai\n",
    "classifier={'SVM': svc , 'MultinomialNB': mnb,'GaussianNB': gnb,'logistic': lr,'RandomForest': rfc,'Adaboost': abc}"
   ]
  },
  {
   "cell_type": "code",
   "execution_count": 100,
   "metadata": {},
   "outputs": [],
   "source": [
    "# du doan va tinh do chinh xac\n",
    "score = []\n",
    "score_tfidf = []\n",
    "for n,c in classifier.items():\n",
    "    training(c,X_train.toarray(),y_train)\n",
    "    training(c, tfidf_x_train.toarray(), y_train)\n",
    "    \n",
    "    pred = predict(c,X_test.toarray())\n",
    "    pred_tfidf = predict(c, tfidf_x_test.toarray())\n",
    "    \n",
    "    score.append((n,[accuracy_score(y_test,pred,normalize=True)]))\n",
    "    score_tfidf.append((n,[accuracy_score(y_test,pred_tfidf,normalize=True)]))"
   ]
  },
  {
   "cell_type": "code",
   "execution_count": 111,
   "metadata": {
    "scrolled": true
   },
   "outputs": [
    {
     "name": "stdout",
     "output_type": "stream",
     "text": [
      "Use count words:\n",
      "\n",
      "               scores  Accuracy (%)\n",
      "GaussianNB       0.84          84.0\n",
      "Adaboost         0.84          84.0\n",
      "SVM              0.92          92.0\n",
      "RandomForest     0.80          80.0\n",
      "MultinomialNB    0.92          92.0\n",
      "logistic         0.76          76.0\n",
      "\n",
      "Use tfidf:\n",
      "\n",
      "               score_tfidf  Accuracy ifidf (%)\n",
      "GaussianNB            0.84                84.0\n",
      "Adaboost              0.80                80.0\n",
      "SVM                   0.88                88.0\n",
      "RandomForest          0.80                80.0\n",
      "MultinomialNB         0.88                88.0\n",
      "logistic              0.72                72.0\n"
     ]
    }
   ],
   "source": [
    "score_df=pd.DataFrame.from_items(score,orient='index',columns=['scores'])\n",
    "# them cot accuracy\n",
    "score_df['Accuracy (%)']=score_df['scores']*100\n",
    "print(\"Use count words:\\n\")\n",
    "print(score_df)\n",
    "score_df_tfidf = pd.DataFrame.from_items(score_tfidf, orient='index', columns=['score_tfidf'])\n",
    "score_df_tfidf['Accuracy ifidf (%)']=score_df_tfidf['score_tfidf']*100\n",
    "print(\"\\nUse tfidf:\\n\")\n",
    "print(score_df_tfidf)"
   ]
  },
  {
   "cell_type": "code",
   "execution_count": 86,
   "metadata": {},
   "outputs": [],
   "source": [
    "spam = ['BAN may mắn khi trúng thưởng']"
   ]
  },
  {
   "cell_type": "code",
   "execution_count": 87,
   "metadata": {},
   "outputs": [],
   "source": [
    "vec_spam = vect.transform(spam)"
   ]
  },
  {
   "cell_type": "code",
   "execution_count": 88,
   "metadata": {},
   "outputs": [
    {
     "name": "stdout",
     "output_type": "stream",
     "text": [
      "  (0, 55)\t1\n",
      "  (0, 273)\t1\n"
     ]
    }
   ],
   "source": [
    "print(vec_spam)"
   ]
  },
  {
   "cell_type": "code",
   "execution_count": 114,
   "metadata": {
    "scrolled": true
   },
   "outputs": [
    {
     "name": "stdout",
     "output_type": "stream",
     "text": [
      "['-1']\n",
      "['-1']\n",
      "['-1']\n",
      "['1']\n",
      "['-1']\n",
      "['-1']\n"
     ]
    }
   ],
   "source": [
    "for n,c in classifier.items():\n",
    "    pred = predict(c, vec_spam.toarray())\n",
    "    print(pred)"
   ]
  },
  {
   "cell_type": "code",
   "execution_count": 121,
   "metadata": {},
   "outputs": [],
   "source": [
    "from sklearn.pipeline import Pipeline\n",
    "from sklearn.metrics import classification_report"
   ]
  },
  {
   "cell_type": "code",
   "execution_count": 122,
   "metadata": {},
   "outputs": [],
   "source": [
    "pipeline = Pipeline([('bow', CountVectorizer()),\n",
    "                    ('tfidf', TfidfTransformer()),\n",
    "                    ('classifier', MultinomialNB())])"
   ]
  },
  {
   "cell_type": "code",
   "execution_count": 123,
   "metadata": {},
   "outputs": [
    {
     "data": {
      "text/plain": [
       "Pipeline(memory=None,\n",
       "     steps=[('bow', CountVectorizer(analyzer='word', binary=False, decode_error='strict',\n",
       "        dtype=<class 'numpy.int64'>, encoding='utf-8', input='content',\n",
       "        lowercase=True, max_df=1.0, max_features=None, min_df=1,\n",
       "        ngram_range=(1, 1), preprocessor=None, stop_words=None,\n",
       "        strip_...f=False, use_idf=True)), ('classifier', MultinomialNB(alpha=1.0, class_prior=None, fit_prior=True))])"
      ]
     },
     "execution_count": 123,
     "metadata": {},
     "output_type": "execute_result"
    }
   ],
   "source": [
    "pipeline.fit(x_train, y_train)"
   ]
  },
  {
   "cell_type": "code",
   "execution_count": 124,
   "metadata": {},
   "outputs": [],
   "source": [
    "predictions = pipeline.predict(x_test)"
   ]
  },
  {
   "cell_type": "code",
   "execution_count": 125,
   "metadata": {},
   "outputs": [
    {
     "name": "stdout",
     "output_type": "stream",
     "text": [
      "             precision    recall  f1-score   support\n",
      "\n",
      "         -1       0.87      0.93      0.90        14\n",
      "          1       0.90      0.82      0.86        11\n",
      "\n",
      "avg / total       0.88      0.88      0.88        25\n",
      "\n"
     ]
    }
   ],
   "source": [
    "print(classification_report(predictions, y_test))"
   ]
  },
  {
   "cell_type": "code",
   "execution_count": null,
   "metadata": {},
   "outputs": [],
   "source": []
  }
 ],
 "metadata": {
  "kernelspec": {
   "display_name": "Python 3",
   "language": "python",
   "name": "python3"
  },
  "language_info": {
   "codemirror_mode": {
    "name": "ipython",
    "version": 2
   },
   "file_extension": ".py",
   "mimetype": "text/x-python",
   "name": "python",
   "nbconvert_exporter": "python",
   "pygments_lexer": "ipython2",
   "version": "2.7.12"
  }
 },
 "nbformat": 4,
 "nbformat_minor": 2
}
